{
 "cells": [
  {
   "cell_type": "markdown",
   "id": "bbfb3f0e",
   "metadata": {},
   "source": [
    "## libraries\n"
   ]
  },
  {
   "cell_type": "code",
   "execution_count": 1,
   "id": "78ba805e",
   "metadata": {},
   "outputs": [],
   "source": [
    "import os\n",
    "import copy\n",
    "import pandas as pd\n",
    "from biopandas.pdb import PandasPdb\n",
    "from Bio.Data import IUPACData\n",
    "from Bio.Seq import Seq\n",
    "\n",
    "%matplotlib inline\n",
    "%config InlineBackend.figure_format='retina'"
   ]
  },
  {
   "cell_type": "markdown",
   "id": "b7999c23",
   "metadata": {},
   "source": [
    "## inputs\n"
   ]
  },
  {
   "cell_type": "code",
   "execution_count": 2,
   "id": "8e3fd945",
   "metadata": {},
   "outputs": [],
   "source": [
    "ROOT = os.path.dirname(os.path.dirname(os.path.dirname(os.getcwd())))\n",
    "SUPPORT_DIR = os.path.join(ROOT,\"support\")\n",
    "RESULTS_DIR = os.path.join(ROOT,'results','splicing_dependency_drugs')\n",
    "pdb_inc_file = os.path.join(SUPPORT_DIR,\"MDM2_HsaEX0038400-iso0-included_unrelaxed_rank_1_model_3.pdb\")\n",
    "pdb_exc_file = os.path.join(SUPPORT_DIR,\"MDM2_HsaEX0038400-iso0-excluded_unrelaxed_rank_1_model_3.pdb\")\n",
    "metadata_file = os.path.join(RESULTS_DIR,'files','structure_inference','proteoforms_merged.tsv.gz')\n",
    "gene_oi = \"MDM2\"\n",
    "seq_id = \"MDM2_HsaEX0038400-iso0\"\n",
    "margin = 10"
   ]
  },
  {
   "cell_type": "markdown",
   "id": "abe81a7d",
   "metadata": {},
   "source": [
    "## load"
   ]
  },
  {
   "cell_type": "code",
   "execution_count": 3,
   "id": "2ac398e8",
   "metadata": {},
   "outputs": [],
   "source": [
    "metadata = pd.read_table(metadata_file)\n",
    "df_inc = PandasPdb().read_pdb(pdb_inc_file)\n",
    "df_exc = PandasPdb().read_pdb(pdb_exc_file)\n",
    "pdb_inc = open(pdb_inc_file,'r').read()\n",
    "pdb_exc = open(pdb_exc_file,'r').read()"
   ]
  },
  {
   "cell_type": "markdown",
   "id": "b0702c3f",
   "metadata": {},
   "source": [
    "## preprocess"
   ]
  },
  {
   "cell_type": "code",
   "execution_count": 4,
   "id": "d22e07ec",
   "metadata": {},
   "outputs": [
    {
     "name": "stdout",
     "output_type": "stream",
     "text": [
      "MCNTNMSVPTDGAVTTSQIPASEQETLVRPKPLLLKLLKSVGAQKDTYTMKEVLFYLGQYIMTKRLYDEKQQHIVYCSNDLLGDLFGVPSFSVKEHRKIYTMIYRNLVVVNQQESSDSGTSVSENRCHLEGGSDQKDLVQELQEEKPSSSHLVSRPSTSSRRRAISETEENSDELSGERQRKRHKSDSISLSFDESLALCVIREICCERSSSSESTGTPSNPDLDAGVSEHSGDWLDQDSVSDQFSVEFEVESLDSEDYSLSEEGQELSDEDDEVYQVTVYQAGESDTDSFEEDPEISLADYWKCTSCNEMNPPLPSHCNRCWALRENWLPEDKGKDKGEISEKAKLENSTQAEEGFDVPDCKKTIVNDSRESCVEENDDKITQASQSQESEDYSQPSTSSSIIYSSQEDVKEFEREETQDKEESVESSLPLNAIEPCVICQGRPKNGCIVHGKTGHLMACFTCAKKLKKRNKPCPVCRQPIQMIVLTYFP chain_id\n",
      "A    491\n",
      "dtype: int64    residue_name chain_id  residue_number residue_title residue_symbol\n",
      "0           MET        A               1           Met              M\n",
      "8           CYS        A               2           Cys              C\n",
      "14          ASN        A               3           Asn              N\n",
      "22          THR        A               4           Thr              T\n",
      "29          ASN        A               5           Asn              N\n",
      "MCNTNMSVPTDGAVTTSQIPASEQETLVLFYLGQYIMTKRLYDEKQQHIVYCSNDLLGDLFGVPSFSVKEHRKIYTMIYRNLVVVNQQESSDSGTSVSENRCHLEGGSDQKDLVQELQEEKPSSSHLVSRPSTSSRRRAISETEENSDELSGERQRKRHKSDSISLSFDESLALCVIREICCERSSSSESTGTPSNPDLDAGVSEHSGDWLDQDSVSDQFSVEFEVESLDSEDYSLSEEGQELSDEDDEVYQVTVYQAGESDTDSFEEDPEISLADYWKCTSCNEMNPPLPSHCNRCWALRENWLPEDKGKDKGEISEKAKLENSTQAEEGFDVPDCKKTIVNDSRESCVEENDDKITQASQSQESEDYSQPSTSSSIIYSSQEDVKEFEREETQDKEESVESSLPLNAIEPCVICQGRPKNGCIVHGKTGHLMACFTCAKKLKKRNKPCPVCRQPIQMIVLTYFP chain_id\n",
      "A    466\n",
      "dtype: int64    residue_name chain_id  residue_number residue_title residue_symbol\n",
      "0           MET        A               1           Met              M\n",
      "8           CYS        A               2           Cys              C\n",
      "14          ASN        A               3           Asn              N\n",
      "22          THR        A               4           Thr              T\n",
      "29          ASN        A               5           Asn              N\n"
     ]
    }
   ],
   "source": [
    "# make proper dataframes\n",
    "## included\n",
    "df_inc = df_inc.df[\"ATOM\"][[\"residue_name\",\"chain_id\",\"residue_number\"]].drop_duplicates()\n",
    "df_inc[\"residue_title\"] = df_inc[\"residue_name\"].str.title()\n",
    "df_inc[\"residue_symbol\"] = df_inc[\"residue_title\"].map(IUPACData.protein_letters_3to1)\n",
    "seq_inc = ''.join(df_inc.loc[df_inc[\"chain_id\"]==\"A\", \"residue_symbol\"].to_list())\n",
    "res_inc = df_inc.loc[df_inc[\"chain_id\"]==\"A\", \"residue_number\"].to_list()\n",
    "\n",
    "## excluded\n",
    "df_exc = df_exc.df[\"ATOM\"][[\"residue_name\",\"chain_id\",\"residue_number\"]].drop_duplicates()\n",
    "df_exc[\"residue_title\"] = df_exc[\"residue_name\"].str.title()\n",
    "df_exc[\"residue_symbol\"] = df_exc[\"residue_title\"].map(IUPACData.protein_letters_3to1)\n",
    "seq_exc = ''.join(df_exc.loc[df_exc[\"chain_id\"]==\"A\", \"residue_symbol\"].to_list())\n",
    "res_exc = df_exc.loc[df_exc[\"chain_id\"]==\"A\", \"residue_number\"].to_list()\n",
    "\n",
    "print(seq_inc, df_inc.groupby([\"chain_id\"]).size(), df_inc.head())\n",
    "print(seq_exc, df_exc.groupby([\"chain_id\"]).size(), df_exc.head())"
   ]
  },
  {
   "cell_type": "markdown",
   "id": "904c8900",
   "metadata": {},
   "source": [
    "## get positions of aminoacids to highlight"
   ]
  },
  {
   "cell_type": "code",
   "execution_count": 5,
   "id": "449d779d",
   "metadata": {},
   "outputs": [
    {
     "name": "stdout",
     "output_type": "stream",
     "text": [
      "{'HsaEX0038400': 'VRPKPLLLKLLKSVGAQKDTYTMKE', 'HsaEX0038402': 'RWSFTMLPRLVWNSWAQGICLPRPPKVLDLQ'}\n",
      "{'HsaEX0038400': {'start': 27, 'end': 52, 'upstream_start': 16, 'upstream_end': 26, 'downstream_start': 53, 'downstream_end': 63}}\n",
      "{'HsaEX0038400': {'start': 27, 'end': 52, 'upstream_start': 16, 'upstream_end': 26, 'downstream_start': 27, 'downstream_end': 37}}\n"
     ]
    }
   ],
   "source": [
    "# exon sequences\n",
    "seqs_oi = metadata.loc[metadata[\"GENE\"]==gene_oi, [\"EVENT\",\"event_aa\"]].drop_duplicates().set_index(\"EVENT\").to_dict()[\"event_aa\"]\n",
    "\n",
    "# get locations of events\n",
    "## find\n",
    "locs_oi_inc = {event: seq_inc.find(aa) for event, aa in seqs_oi.items()}\n",
    "## remove not found\n",
    "locs_oi_inc = {event: loc_start for event, loc_start in locs_oi_inc.items() if loc_start!=(-1)}\n",
    "## add end\n",
    "locs_oi_inc = {event: {\"start\": loc_start, \"end\": loc_start+len(seqs_oi[event])} for event, loc_start in locs_oi_inc.items()}\n",
    "## add margins\n",
    "locs_oi_inc = {\n",
    "    event: {\n",
    "        \"start\": loc[\"start\"], \n",
    "        \"end\": loc[\"end\"],\n",
    "        \"upstream_start\": loc[\"start\"] - margin - 1,\n",
    "        \"upstream_end\": loc[\"start\"] - 1,\n",
    "        \"downstream_start\": loc[\"end\"] + 1,\n",
    "        \"downstream_end\": loc[\"end\"] + margin + 1\n",
    "    } \n",
    "    for event, loc in locs_oi_inc.items()\n",
    "}\n",
    "\n",
    "## locations of excluded isoform\n",
    "locs_oi_exc = copy.deepcopy(locs_oi_inc)\n",
    "for event in locs_oi_exc.keys():\n",
    "    locs_oi_exc[event][\"downstream_start\"] = locs_oi_exc[event][\"downstream_start\"] - len(seqs_oi[event]) - 1\n",
    "    locs_oi_exc[event][\"downstream_end\"] = locs_oi_exc[event][\"downstream_end\"] - len(seqs_oi[event]) - 1\n",
    "\n",
    "print(seqs_oi)\n",
    "print(locs_oi_inc)\n",
    "print(locs_oi_exc)"
   ]
  },
  {
   "cell_type": "markdown",
   "id": "7f798ccf",
   "metadata": {},
   "source": [
    "## prepare color palettes"
   ]
  },
  {
   "cell_type": "code",
   "execution_count": 6,
   "id": "8a05780a",
   "metadata": {
    "scrolled": true,
    "tags": []
   },
   "outputs": [
    {
     "name": "stdout",
     "output_type": "stream",
     "text": [
      "{'HsaEX0038400': {1: 'gray', 2: 'gray', 3: 'gray', 4: 'gray', 5: 'gray', 6: 'gray', 7: 'gray', 8: 'gray', 9: 'gray', 10: 'gray', 11: 'gray', 12: 'gray', 13: 'gray', 14: 'gray', 15: 'gray', 16: 'gray', 17: 'green', 18: 'green', 19: 'green', 20: 'green', 21: 'green', 22: 'green', 23: 'green', 24: 'green', 25: 'green', 26: 'green', 27: 'green', 28: 'orange', 29: 'orange', 30: 'orange', 31: 'orange', 32: 'orange', 33: 'orange', 34: 'orange', 35: 'orange', 36: 'orange', 37: 'orange', 38: 'orange', 39: 'orange', 40: 'orange', 41: 'orange', 42: 'orange', 43: 'orange', 44: 'orange', 45: 'orange', 46: 'orange', 47: 'orange', 48: 'orange', 49: 'orange', 50: 'orange', 51: 'orange', 52: 'orange', 53: 'orange', 54: 'blue', 55: 'blue', 56: 'blue', 57: 'blue', 58: 'blue', 59: 'blue', 60: 'blue', 61: 'blue', 62: 'blue', 63: 'blue', 64: 'blue', 65: 'gray', 66: 'gray', 67: 'gray', 68: 'gray', 69: 'gray', 70: 'gray', 71: 'gray', 72: 'gray', 73: 'gray', 74: 'gray', 75: 'gray', 76: 'gray', 77: 'gray', 78: 'gray', 79: 'gray', 80: 'gray', 81: 'gray', 82: 'gray', 83: 'gray', 84: 'gray', 85: 'gray', 86: 'gray', 87: 'gray', 88: 'gray', 89: 'gray', 90: 'gray', 91: 'gray', 92: 'gray', 93: 'gray', 94: 'gray', 95: 'gray', 96: 'gray', 97: 'gray', 98: 'gray', 99: 'gray', 100: 'gray', 101: 'gray', 102: 'gray', 103: 'gray', 104: 'gray', 105: 'gray', 106: 'gray', 107: 'gray', 108: 'gray', 109: 'gray', 110: 'gray', 111: 'gray', 112: 'gray', 113: 'gray', 114: 'gray', 115: 'gray', 116: 'gray', 117: 'gray', 118: 'gray', 119: 'gray', 120: 'gray', 121: 'gray', 122: 'gray', 123: 'gray', 124: 'gray', 125: 'gray', 126: 'gray', 127: 'gray', 128: 'gray', 129: 'gray', 130: 'gray', 131: 'gray', 132: 'gray', 133: 'gray', 134: 'gray', 135: 'gray', 136: 'gray', 137: 'gray', 138: 'gray', 139: 'gray', 140: 'gray', 141: 'gray', 142: 'gray', 143: 'gray', 144: 'gray', 145: 'gray', 146: 'gray', 147: 'gray', 148: 'gray', 149: 'gray', 150: 'gray', 151: 'gray', 152: 'gray', 153: 'gray', 154: 'gray', 155: 'gray', 156: 'gray', 157: 'gray', 158: 'gray', 159: 'gray', 160: 'gray', 161: 'gray', 162: 'gray', 163: 'gray', 164: 'gray', 165: 'gray', 166: 'gray', 167: 'gray', 168: 'gray', 169: 'gray', 170: 'gray', 171: 'gray', 172: 'gray', 173: 'gray', 174: 'gray', 175: 'gray', 176: 'gray', 177: 'gray', 178: 'gray', 179: 'gray', 180: 'gray', 181: 'gray', 182: 'gray', 183: 'gray', 184: 'gray', 185: 'gray', 186: 'gray', 187: 'gray', 188: 'gray', 189: 'gray', 190: 'gray', 191: 'gray', 192: 'gray', 193: 'gray', 194: 'gray', 195: 'gray', 196: 'gray', 197: 'gray', 198: 'gray', 199: 'gray', 200: 'gray', 201: 'gray', 202: 'gray', 203: 'gray', 204: 'gray', 205: 'gray', 206: 'gray', 207: 'gray', 208: 'gray', 209: 'gray', 210: 'gray', 211: 'gray', 212: 'gray', 213: 'gray', 214: 'gray', 215: 'gray', 216: 'gray', 217: 'gray', 218: 'gray', 219: 'gray', 220: 'gray', 221: 'gray', 222: 'gray', 223: 'gray', 224: 'gray', 225: 'gray', 226: 'gray', 227: 'gray', 228: 'gray', 229: 'gray', 230: 'gray', 231: 'gray', 232: 'gray', 233: 'gray', 234: 'gray', 235: 'gray', 236: 'gray', 237: 'gray', 238: 'gray', 239: 'gray', 240: 'gray', 241: 'gray', 242: 'gray', 243: 'gray', 244: 'gray', 245: 'gray', 246: 'gray', 247: 'gray', 248: 'gray', 249: 'gray', 250: 'gray', 251: 'gray', 252: 'gray', 253: 'gray', 254: 'gray', 255: 'gray', 256: 'gray', 257: 'gray', 258: 'gray', 259: 'gray', 260: 'gray', 261: 'gray', 262: 'gray', 263: 'gray', 264: 'gray', 265: 'gray', 266: 'gray', 267: 'gray', 268: 'gray', 269: 'gray', 270: 'gray', 271: 'gray', 272: 'gray', 273: 'gray', 274: 'gray', 275: 'gray', 276: 'gray', 277: 'gray', 278: 'gray', 279: 'gray', 280: 'gray', 281: 'gray', 282: 'gray', 283: 'gray', 284: 'gray', 285: 'gray', 286: 'gray', 287: 'gray', 288: 'gray', 289: 'gray', 290: 'gray', 291: 'gray', 292: 'gray', 293: 'gray', 294: 'gray', 295: 'gray', 296: 'gray', 297: 'gray', 298: 'gray', 299: 'gray', 300: 'gray', 301: 'gray', 302: 'gray', 303: 'gray', 304: 'gray', 305: 'gray', 306: 'gray', 307: 'gray', 308: 'gray', 309: 'gray', 310: 'gray', 311: 'gray', 312: 'gray', 313: 'gray', 314: 'gray', 315: 'gray', 316: 'gray', 317: 'gray', 318: 'gray', 319: 'gray', 320: 'gray', 321: 'gray', 322: 'gray', 323: 'gray', 324: 'gray', 325: 'gray', 326: 'gray', 327: 'gray', 328: 'gray', 329: 'gray', 330: 'gray', 331: 'gray', 332: 'gray', 333: 'gray', 334: 'gray', 335: 'gray', 336: 'gray', 337: 'gray', 338: 'gray', 339: 'gray', 340: 'gray', 341: 'gray', 342: 'gray', 343: 'gray', 344: 'gray', 345: 'gray', 346: 'gray', 347: 'gray', 348: 'gray', 349: 'gray', 350: 'gray', 351: 'gray', 352: 'gray', 353: 'gray', 354: 'gray', 355: 'gray', 356: 'gray', 357: 'gray', 358: 'gray', 359: 'gray', 360: 'gray', 361: 'gray', 362: 'gray', 363: 'gray', 364: 'gray', 365: 'gray', 366: 'gray', 367: 'gray', 368: 'gray', 369: 'gray', 370: 'gray', 371: 'gray', 372: 'gray', 373: 'gray', 374: 'gray', 375: 'gray', 376: 'gray', 377: 'gray', 378: 'gray', 379: 'gray', 380: 'gray', 381: 'gray', 382: 'gray', 383: 'gray', 384: 'gray', 385: 'gray', 386: 'gray', 387: 'gray', 388: 'gray', 389: 'gray', 390: 'gray', 391: 'gray', 392: 'gray', 393: 'gray', 394: 'gray', 395: 'gray', 396: 'gray', 397: 'gray', 398: 'gray', 399: 'gray', 400: 'gray', 401: 'gray', 402: 'gray', 403: 'gray', 404: 'gray', 405: 'gray', 406: 'gray', 407: 'gray', 408: 'gray', 409: 'gray', 410: 'gray', 411: 'gray', 412: 'gray', 413: 'gray', 414: 'gray', 415: 'gray', 416: 'gray', 417: 'gray', 418: 'gray', 419: 'gray', 420: 'gray', 421: 'gray', 422: 'gray', 423: 'gray', 424: 'gray', 425: 'gray', 426: 'gray', 427: 'gray', 428: 'gray', 429: 'gray', 430: 'gray', 431: 'gray', 432: 'gray', 433: 'gray', 434: 'gray', 435: 'gray', 436: 'gray', 437: 'gray', 438: 'gray', 439: 'gray', 440: 'gray', 441: 'gray', 442: 'gray', 443: 'gray', 444: 'gray', 445: 'gray', 446: 'gray', 447: 'gray', 448: 'gray', 449: 'gray', 450: 'gray', 451: 'gray', 452: 'gray', 453: 'gray', 454: 'gray', 455: 'gray', 456: 'gray', 457: 'gray', 458: 'gray', 459: 'gray', 460: 'gray', 461: 'gray', 462: 'gray', 463: 'gray', 464: 'gray', 465: 'gray', 466: 'gray', 467: 'gray', 468: 'gray', 469: 'gray', 470: 'gray', 471: 'gray', 472: 'gray', 473: 'gray', 474: 'gray', 475: 'gray', 476: 'gray', 477: 'gray', 478: 'gray', 479: 'gray', 480: 'gray', 481: 'gray', 482: 'gray', 483: 'gray', 484: 'gray', 485: 'gray', 486: 'gray', 487: 'gray', 488: 'gray', 489: 'gray', 490: 'gray', 491: 'gray'}}\n",
      "{'HsaEX0038400': {1: 'gray', 2: 'gray', 3: 'gray', 4: 'gray', 5: 'gray', 6: 'gray', 7: 'gray', 8: 'gray', 9: 'gray', 10: 'gray', 11: 'gray', 12: 'gray', 13: 'gray', 14: 'gray', 15: 'gray', 16: 'gray', 17: 'green', 18: 'green', 19: 'green', 20: 'green', 21: 'green', 22: 'green', 23: 'green', 24: 'green', 25: 'green', 26: 'green', 27: 'green', 28: 'blue', 29: 'blue', 30: 'blue', 31: 'blue', 32: 'blue', 33: 'blue', 34: 'blue', 35: 'blue', 36: 'blue', 37: 'blue', 38: 'blue', 39: 'gray', 40: 'gray', 41: 'gray', 42: 'gray', 43: 'gray', 44: 'gray', 45: 'gray', 46: 'gray', 47: 'gray', 48: 'gray', 49: 'gray', 50: 'gray', 51: 'gray', 52: 'gray', 53: 'gray', 54: 'gray', 55: 'gray', 56: 'gray', 57: 'gray', 58: 'gray', 59: 'gray', 60: 'gray', 61: 'gray', 62: 'gray', 63: 'gray', 64: 'gray', 65: 'gray', 66: 'gray', 67: 'gray', 68: 'gray', 69: 'gray', 70: 'gray', 71: 'gray', 72: 'gray', 73: 'gray', 74: 'gray', 75: 'gray', 76: 'gray', 77: 'gray', 78: 'gray', 79: 'gray', 80: 'gray', 81: 'gray', 82: 'gray', 83: 'gray', 84: 'gray', 85: 'gray', 86: 'gray', 87: 'gray', 88: 'gray', 89: 'gray', 90: 'gray', 91: 'gray', 92: 'gray', 93: 'gray', 94: 'gray', 95: 'gray', 96: 'gray', 97: 'gray', 98: 'gray', 99: 'gray', 100: 'gray', 101: 'gray', 102: 'gray', 103: 'gray', 104: 'gray', 105: 'gray', 106: 'gray', 107: 'gray', 108: 'gray', 109: 'gray', 110: 'gray', 111: 'gray', 112: 'gray', 113: 'gray', 114: 'gray', 115: 'gray', 116: 'gray', 117: 'gray', 118: 'gray', 119: 'gray', 120: 'gray', 121: 'gray', 122: 'gray', 123: 'gray', 124: 'gray', 125: 'gray', 126: 'gray', 127: 'gray', 128: 'gray', 129: 'gray', 130: 'gray', 131: 'gray', 132: 'gray', 133: 'gray', 134: 'gray', 135: 'gray', 136: 'gray', 137: 'gray', 138: 'gray', 139: 'gray', 140: 'gray', 141: 'gray', 142: 'gray', 143: 'gray', 144: 'gray', 145: 'gray', 146: 'gray', 147: 'gray', 148: 'gray', 149: 'gray', 150: 'gray', 151: 'gray', 152: 'gray', 153: 'gray', 154: 'gray', 155: 'gray', 156: 'gray', 157: 'gray', 158: 'gray', 159: 'gray', 160: 'gray', 161: 'gray', 162: 'gray', 163: 'gray', 164: 'gray', 165: 'gray', 166: 'gray', 167: 'gray', 168: 'gray', 169: 'gray', 170: 'gray', 171: 'gray', 172: 'gray', 173: 'gray', 174: 'gray', 175: 'gray', 176: 'gray', 177: 'gray', 178: 'gray', 179: 'gray', 180: 'gray', 181: 'gray', 182: 'gray', 183: 'gray', 184: 'gray', 185: 'gray', 186: 'gray', 187: 'gray', 188: 'gray', 189: 'gray', 190: 'gray', 191: 'gray', 192: 'gray', 193: 'gray', 194: 'gray', 195: 'gray', 196: 'gray', 197: 'gray', 198: 'gray', 199: 'gray', 200: 'gray', 201: 'gray', 202: 'gray', 203: 'gray', 204: 'gray', 205: 'gray', 206: 'gray', 207: 'gray', 208: 'gray', 209: 'gray', 210: 'gray', 211: 'gray', 212: 'gray', 213: 'gray', 214: 'gray', 215: 'gray', 216: 'gray', 217: 'gray', 218: 'gray', 219: 'gray', 220: 'gray', 221: 'gray', 222: 'gray', 223: 'gray', 224: 'gray', 225: 'gray', 226: 'gray', 227: 'gray', 228: 'gray', 229: 'gray', 230: 'gray', 231: 'gray', 232: 'gray', 233: 'gray', 234: 'gray', 235: 'gray', 236: 'gray', 237: 'gray', 238: 'gray', 239: 'gray', 240: 'gray', 241: 'gray', 242: 'gray', 243: 'gray', 244: 'gray', 245: 'gray', 246: 'gray', 247: 'gray', 248: 'gray', 249: 'gray', 250: 'gray', 251: 'gray', 252: 'gray', 253: 'gray', 254: 'gray', 255: 'gray', 256: 'gray', 257: 'gray', 258: 'gray', 259: 'gray', 260: 'gray', 261: 'gray', 262: 'gray', 263: 'gray', 264: 'gray', 265: 'gray', 266: 'gray', 267: 'gray', 268: 'gray', 269: 'gray', 270: 'gray', 271: 'gray', 272: 'gray', 273: 'gray', 274: 'gray', 275: 'gray', 276: 'gray', 277: 'gray', 278: 'gray', 279: 'gray', 280: 'gray', 281: 'gray', 282: 'gray', 283: 'gray', 284: 'gray', 285: 'gray', 286: 'gray', 287: 'gray', 288: 'gray', 289: 'gray', 290: 'gray', 291: 'gray', 292: 'gray', 293: 'gray', 294: 'gray', 295: 'gray', 296: 'gray', 297: 'gray', 298: 'gray', 299: 'gray', 300: 'gray', 301: 'gray', 302: 'gray', 303: 'gray', 304: 'gray', 305: 'gray', 306: 'gray', 307: 'gray', 308: 'gray', 309: 'gray', 310: 'gray', 311: 'gray', 312: 'gray', 313: 'gray', 314: 'gray', 315: 'gray', 316: 'gray', 317: 'gray', 318: 'gray', 319: 'gray', 320: 'gray', 321: 'gray', 322: 'gray', 323: 'gray', 324: 'gray', 325: 'gray', 326: 'gray', 327: 'gray', 328: 'gray', 329: 'gray', 330: 'gray', 331: 'gray', 332: 'gray', 333: 'gray', 334: 'gray', 335: 'gray', 336: 'gray', 337: 'gray', 338: 'gray', 339: 'gray', 340: 'gray', 341: 'gray', 342: 'gray', 343: 'gray', 344: 'gray', 345: 'gray', 346: 'gray', 347: 'gray', 348: 'gray', 349: 'gray', 350: 'gray', 351: 'gray', 352: 'gray', 353: 'gray', 354: 'gray', 355: 'gray', 356: 'gray', 357: 'gray', 358: 'gray', 359: 'gray', 360: 'gray', 361: 'gray', 362: 'gray', 363: 'gray', 364: 'gray', 365: 'gray', 366: 'gray', 367: 'gray', 368: 'gray', 369: 'gray', 370: 'gray', 371: 'gray', 372: 'gray', 373: 'gray', 374: 'gray', 375: 'gray', 376: 'gray', 377: 'gray', 378: 'gray', 379: 'gray', 380: 'gray', 381: 'gray', 382: 'gray', 383: 'gray', 384: 'gray', 385: 'gray', 386: 'gray', 387: 'gray', 388: 'gray', 389: 'gray', 390: 'gray', 391: 'gray', 392: 'gray', 393: 'gray', 394: 'gray', 395: 'gray', 396: 'gray', 397: 'gray', 398: 'gray', 399: 'gray', 400: 'gray', 401: 'gray', 402: 'gray', 403: 'gray', 404: 'gray', 405: 'gray', 406: 'gray', 407: 'gray', 408: 'gray', 409: 'gray', 410: 'gray', 411: 'gray', 412: 'gray', 413: 'gray', 414: 'gray', 415: 'gray', 416: 'gray', 417: 'gray', 418: 'gray', 419: 'gray', 420: 'gray', 421: 'gray', 422: 'gray', 423: 'gray', 424: 'gray', 425: 'gray', 426: 'gray', 427: 'gray', 428: 'gray', 429: 'gray', 430: 'gray', 431: 'gray', 432: 'gray', 433: 'gray', 434: 'gray', 435: 'gray', 436: 'gray', 437: 'gray', 438: 'gray', 439: 'gray', 440: 'gray', 441: 'gray', 442: 'gray', 443: 'gray', 444: 'gray', 445: 'gray', 446: 'gray', 447: 'gray', 448: 'gray', 449: 'gray', 450: 'gray', 451: 'gray', 452: 'gray', 453: 'gray', 454: 'gray', 455: 'gray', 456: 'gray', 457: 'gray', 458: 'gray', 459: 'gray', 460: 'gray', 461: 'gray', 462: 'gray', 463: 'gray', 464: 'gray', 465: 'gray', 466: 'gray'}}\n"
     ]
    }
   ],
   "source": [
    "colors_inc = {}\n",
    "colors_exc = {}\n",
    "for event in locs_oi_exc.keys():\n",
    "    # included isoform\n",
    "    colors_inc[event] = {}\n",
    "    for idx, res in enumerate(res_inc):\n",
    "        # check upstream\n",
    "        if (idx >= locs_oi_inc[event][\"upstream_start\"]) & (idx <= locs_oi_inc[event][\"upstream_end\"]):\n",
    "            colors_inc[event][res] = \"green\"\n",
    "        # check in exon\n",
    "        elif (idx >= locs_oi_inc[event][\"start\"]) & (idx <= locs_oi_inc[event][\"end\"]):\n",
    "            colors_inc[event][res] = \"orange\"\n",
    "        # check downstream\n",
    "        elif (idx >= locs_oi_inc[event][\"downstream_start\"]) & (idx <= locs_oi_inc[event][\"downstream_end\"]):\n",
    "            colors_inc[event][res] = \"blue\"\n",
    "        else:\n",
    "            colors_inc[event][res] = \"gray\"\n",
    "\n",
    "    # excluded isoform\n",
    "    colors_exc[event] = {}\n",
    "    for idx, res in enumerate(res_exc):\n",
    "        # check upstream\n",
    "        if (idx >= locs_oi_exc[event][\"upstream_start\"]) & (idx <= locs_oi_exc[event][\"upstream_end\"]):\n",
    "            colors_exc[event][res] = \"green\"\n",
    "        # check downstream\n",
    "        elif (idx >= locs_oi_exc[event][\"downstream_start\"]) & (idx <= locs_oi_exc[event][\"downstream_end\"]):\n",
    "            colors_exc[event][res] = \"blue\"\n",
    "        else:\n",
    "            colors_exc[event][res] = \"gray\"\n",
    "            \n",
    "print(colors_inc)\n",
    "print(colors_exc)"
   ]
  },
  {
   "cell_type": "markdown",
   "id": "c4972a45",
   "metadata": {},
   "source": [
    "## visualize"
   ]
  },
  {
   "cell_type": "code",
   "execution_count": 32,
   "id": "fed1b27f",
   "metadata": {},
   "outputs": [],
   "source": [
    "import py3Dmol\n",
    "\n",
    "view = py3Dmol.view(js='https://3dmol.org/build/3Dmol.js', width=400, height=400)"
   ]
  },
  {
   "cell_type": "code",
   "execution_count": 33,
   "id": "68ee9ca0",
   "metadata": {},
   "outputs": [
    {
     "data": {
      "application/3dmoljs_load.v0": "<div id=\"3dmolviewer_16633194717704778\"  style=\"position: relative; width: 400px; height: 400px\">\n        <p id=\"3dmolwarning_16633194717704778\" style=\"background-color:#ffcccc;color:black\">You appear to be running in JupyterLab (or JavaScript failed to load for some other reason).  You need to install the 3dmol extension: <br>\n        <tt>jupyter labextension install jupyterlab_3dmol</tt></p>\n        </div>\n<script>\n\nvar loadScriptAsync = function(uri){\n  return new Promise((resolve, reject) => {\n    var tag = document.createElement('script');\n    tag.src = uri;\n    tag.async = true;\n    tag.onload = () => {\n      resolve();\n    };\n  var firstScriptTag = document.getElementsByTagName('script')[0];\n  firstScriptTag.parentNode.insertBefore(tag, firstScriptTag);\n});\n};\n\nif(typeof $3Dmolpromise === 'undefined') {\n$3Dmolpromise = null;\n  $3Dmolpromise = loadScriptAsync('https://3dmol.org/build/3Dmol.js');\n}\n\nvar viewer_16633194717704778 = null;\nvar warn = document.getElementById(\"3dmolwarning_16633194717704778\");\nif(warn) {\n    warn.parentNode.removeChild(warn);\n}\n$3Dmolpromise.then(function() {\nviewer_16633194717704778 = $3Dmol.createViewer($(\"#3dmolviewer_16633194717704778\"),{backgroundColor:\"white\"});\nviewer_16633194717704778.zoomTo();\n\tviewer_16633194717704778.removeAllModels();\n\tviewer_16633194717704778.addModel(\"/home/miquel/mounts/crg_hpc/projects/publication_splicing_dependency/support/MDM2_HsaEX0038400-iso0-included_unrelaxed_rank_1_model_3.pdb\",\"pdb\");\n\tviewer_16633194717704778.setBackgroundColor(\"black\",1.0);\n\tviewer_16633194717704778.setStyle({\"chain\": \"A\"},{\"cartoon\": {\"colorscheme\": {\"prop\": \"resi\", \"map\": {\"1\": \"gray\", \"2\": \"gray\", \"3\": \"gray\", \"4\": \"gray\", \"5\": \"gray\", \"6\": \"gray\", \"7\": \"gray\", \"8\": \"gray\", \"9\": \"gray\", \"10\": \"gray\", \"11\": \"gray\", \"12\": \"gray\", \"13\": \"gray\", \"14\": \"gray\", \"15\": \"gray\", \"16\": \"gray\", \"17\": \"green\", \"18\": \"green\", \"19\": \"green\", \"20\": \"green\", \"21\": \"green\", \"22\": \"green\", \"23\": \"green\", \"24\": \"green\", \"25\": \"green\", \"26\": \"green\", \"27\": \"green\", \"28\": \"orange\", \"29\": \"orange\", \"30\": \"orange\", \"31\": \"orange\", \"32\": \"orange\", \"33\": \"orange\", \"34\": \"orange\", \"35\": \"orange\", \"36\": \"orange\", \"37\": \"orange\", \"38\": \"orange\", \"39\": \"orange\", \"40\": \"orange\", \"41\": \"orange\", \"42\": \"orange\", \"43\": \"orange\", \"44\": \"orange\", \"45\": \"orange\", \"46\": \"orange\", \"47\": \"orange\", \"48\": \"orange\", \"49\": \"orange\", \"50\": \"orange\", \"51\": \"orange\", \"52\": \"orange\", \"53\": \"orange\", \"54\": \"blue\", \"55\": \"blue\", \"56\": \"blue\", \"57\": \"blue\", \"58\": \"blue\", \"59\": \"blue\", \"60\": \"blue\", \"61\": \"blue\", \"62\": \"blue\", \"63\": \"blue\", \"64\": \"blue\", \"65\": \"gray\", \"66\": \"gray\", \"67\": \"gray\", \"68\": \"gray\", \"69\": \"gray\", \"70\": \"gray\", \"71\": \"gray\", \"72\": \"gray\", \"73\": \"gray\", \"74\": \"gray\", \"75\": \"gray\", \"76\": \"gray\", \"77\": \"gray\", \"78\": \"gray\", \"79\": \"gray\", \"80\": \"gray\", \"81\": \"gray\", \"82\": \"gray\", \"83\": \"gray\", \"84\": \"gray\", \"85\": \"gray\", \"86\": \"gray\", \"87\": \"gray\", \"88\": \"gray\", \"89\": \"gray\", \"90\": \"gray\", \"91\": \"gray\", \"92\": \"gray\", \"93\": \"gray\", \"94\": \"gray\", \"95\": \"gray\", \"96\": \"gray\", \"97\": \"gray\", \"98\": \"gray\", \"99\": \"gray\", \"100\": \"gray\", \"101\": \"gray\", \"102\": \"gray\", \"103\": \"gray\", \"104\": \"gray\", \"105\": \"gray\", \"106\": \"gray\", \"107\": \"gray\", \"108\": \"gray\", \"109\": \"gray\", \"110\": \"gray\", \"111\": \"gray\", \"112\": \"gray\", \"113\": \"gray\", \"114\": \"gray\", \"115\": \"gray\", \"116\": \"gray\", \"117\": \"gray\", \"118\": \"gray\", \"119\": \"gray\", \"120\": \"gray\", \"121\": \"gray\", \"122\": \"gray\", \"123\": \"gray\", \"124\": \"gray\", \"125\": \"gray\", \"126\": \"gray\", \"127\": \"gray\", \"128\": \"gray\", \"129\": \"gray\", \"130\": \"gray\", \"131\": \"gray\", \"132\": \"gray\", \"133\": \"gray\", \"134\": \"gray\", \"135\": \"gray\", \"136\": \"gray\", \"137\": \"gray\", \"138\": \"gray\", \"139\": \"gray\", \"140\": \"gray\", \"141\": \"gray\", \"142\": \"gray\", \"143\": \"gray\", \"144\": \"gray\", \"145\": \"gray\", \"146\": \"gray\", \"147\": \"gray\", \"148\": \"gray\", \"149\": \"gray\", \"150\": \"gray\", \"151\": \"gray\", \"152\": \"gray\", \"153\": \"gray\", \"154\": \"gray\", \"155\": \"gray\", \"156\": \"gray\", \"157\": \"gray\", \"158\": \"gray\", \"159\": \"gray\", \"160\": \"gray\", \"161\": \"gray\", \"162\": \"gray\", \"163\": \"gray\", \"164\": \"gray\", \"165\": \"gray\", \"166\": \"gray\", \"167\": \"gray\", \"168\": \"gray\", \"169\": \"gray\", \"170\": \"gray\", \"171\": \"gray\", \"172\": \"gray\", \"173\": \"gray\", \"174\": \"gray\", \"175\": \"gray\", \"176\": \"gray\", \"177\": \"gray\", \"178\": \"gray\", \"179\": \"gray\", \"180\": \"gray\", \"181\": \"gray\", \"182\": \"gray\", \"183\": \"gray\", \"184\": \"gray\", \"185\": \"gray\", \"186\": \"gray\", \"187\": \"gray\", \"188\": \"gray\", \"189\": \"gray\", \"190\": \"gray\", \"191\": \"gray\", \"192\": \"gray\", \"193\": \"gray\", \"194\": \"gray\", \"195\": \"gray\", \"196\": \"gray\", \"197\": \"gray\", \"198\": \"gray\", \"199\": \"gray\", \"200\": \"gray\", \"201\": \"gray\", \"202\": \"gray\", \"203\": \"gray\", \"204\": \"gray\", \"205\": \"gray\", \"206\": \"gray\", \"207\": \"gray\", \"208\": \"gray\", \"209\": \"gray\", \"210\": \"gray\", \"211\": \"gray\", \"212\": \"gray\", \"213\": \"gray\", \"214\": \"gray\", \"215\": \"gray\", \"216\": \"gray\", \"217\": \"gray\", \"218\": \"gray\", \"219\": \"gray\", \"220\": \"gray\", \"221\": \"gray\", \"222\": \"gray\", \"223\": \"gray\", \"224\": \"gray\", \"225\": \"gray\", \"226\": \"gray\", \"227\": \"gray\", \"228\": \"gray\", \"229\": \"gray\", \"230\": \"gray\", \"231\": \"gray\", \"232\": \"gray\", \"233\": \"gray\", \"234\": \"gray\", \"235\": \"gray\", \"236\": \"gray\", \"237\": \"gray\", \"238\": \"gray\", \"239\": \"gray\", \"240\": \"gray\", \"241\": \"gray\", \"242\": \"gray\", \"243\": \"gray\", \"244\": \"gray\", \"245\": \"gray\", \"246\": \"gray\", \"247\": \"gray\", \"248\": \"gray\", \"249\": \"gray\", \"250\": \"gray\", \"251\": \"gray\", \"252\": \"gray\", \"253\": \"gray\", \"254\": \"gray\", \"255\": \"gray\", \"256\": \"gray\", \"257\": \"gray\", \"258\": \"gray\", \"259\": \"gray\", \"260\": \"gray\", \"261\": \"gray\", \"262\": \"gray\", \"263\": \"gray\", \"264\": \"gray\", \"265\": \"gray\", \"266\": \"gray\", \"267\": \"gray\", \"268\": \"gray\", \"269\": \"gray\", \"270\": \"gray\", \"271\": \"gray\", \"272\": \"gray\", \"273\": \"gray\", \"274\": \"gray\", \"275\": \"gray\", \"276\": \"gray\", \"277\": \"gray\", \"278\": \"gray\", \"279\": \"gray\", \"280\": \"gray\", \"281\": \"gray\", \"282\": \"gray\", \"283\": \"gray\", \"284\": \"gray\", \"285\": \"gray\", \"286\": \"gray\", \"287\": \"gray\", \"288\": \"gray\", \"289\": \"gray\", \"290\": \"gray\", \"291\": \"gray\", \"292\": \"gray\", \"293\": \"gray\", \"294\": \"gray\", \"295\": \"gray\", \"296\": \"gray\", \"297\": \"gray\", \"298\": \"gray\", \"299\": \"gray\", \"300\": \"gray\", \"301\": \"gray\", \"302\": \"gray\", \"303\": \"gray\", \"304\": \"gray\", \"305\": \"gray\", \"306\": \"gray\", \"307\": \"gray\", \"308\": \"gray\", \"309\": \"gray\", \"310\": \"gray\", \"311\": \"gray\", \"312\": \"gray\", \"313\": \"gray\", \"314\": \"gray\", \"315\": \"gray\", \"316\": \"gray\", \"317\": \"gray\", \"318\": \"gray\", \"319\": \"gray\", \"320\": \"gray\", \"321\": \"gray\", \"322\": \"gray\", \"323\": \"gray\", \"324\": \"gray\", \"325\": \"gray\", \"326\": \"gray\", \"327\": \"gray\", \"328\": \"gray\", \"329\": \"gray\", \"330\": \"gray\", \"331\": \"gray\", \"332\": \"gray\", \"333\": \"gray\", \"334\": \"gray\", \"335\": \"gray\", \"336\": \"gray\", \"337\": \"gray\", \"338\": \"gray\", \"339\": \"gray\", \"340\": \"gray\", \"341\": \"gray\", \"342\": \"gray\", \"343\": \"gray\", \"344\": \"gray\", \"345\": \"gray\", \"346\": \"gray\", \"347\": \"gray\", \"348\": \"gray\", \"349\": \"gray\", \"350\": \"gray\", \"351\": \"gray\", \"352\": \"gray\", \"353\": \"gray\", \"354\": \"gray\", \"355\": \"gray\", \"356\": \"gray\", \"357\": \"gray\", \"358\": \"gray\", \"359\": \"gray\", \"360\": \"gray\", \"361\": \"gray\", \"362\": \"gray\", \"363\": \"gray\", \"364\": \"gray\", \"365\": \"gray\", \"366\": \"gray\", \"367\": \"gray\", \"368\": \"gray\", \"369\": \"gray\", \"370\": \"gray\", \"371\": \"gray\", \"372\": \"gray\", \"373\": \"gray\", \"374\": \"gray\", \"375\": \"gray\", \"376\": \"gray\", \"377\": \"gray\", \"378\": \"gray\", \"379\": \"gray\", \"380\": \"gray\", \"381\": \"gray\", \"382\": \"gray\", \"383\": \"gray\", \"384\": \"gray\", \"385\": \"gray\", \"386\": \"gray\", \"387\": \"gray\", \"388\": \"gray\", \"389\": \"gray\", \"390\": \"gray\", \"391\": \"gray\", \"392\": \"gray\", \"393\": \"gray\", \"394\": \"gray\", \"395\": \"gray\", \"396\": \"gray\", \"397\": \"gray\", \"398\": \"gray\", \"399\": \"gray\", \"400\": \"gray\", \"401\": \"gray\", \"402\": \"gray\", \"403\": \"gray\", \"404\": \"gray\", \"405\": \"gray\", \"406\": \"gray\", \"407\": \"gray\", \"408\": \"gray\", \"409\": \"gray\", \"410\": \"gray\", \"411\": \"gray\", \"412\": \"gray\", \"413\": \"gray\", \"414\": \"gray\", \"415\": \"gray\", \"416\": \"gray\", \"417\": \"gray\", \"418\": \"gray\", \"419\": \"gray\", \"420\": \"gray\", \"421\": \"gray\", \"422\": \"gray\", \"423\": \"gray\", \"424\": \"gray\", \"425\": \"gray\", \"426\": \"gray\", \"427\": \"gray\", \"428\": \"gray\", \"429\": \"gray\", \"430\": \"gray\", \"431\": \"gray\", \"432\": \"gray\", \"433\": \"gray\", \"434\": \"gray\", \"435\": \"gray\", \"436\": \"gray\", \"437\": \"gray\", \"438\": \"gray\", \"439\": \"gray\", \"440\": \"gray\", \"441\": \"gray\", \"442\": \"gray\", \"443\": \"gray\", \"444\": \"gray\", \"445\": \"gray\", \"446\": \"gray\", \"447\": \"gray\", \"448\": \"gray\", \"449\": \"gray\", \"450\": \"gray\", \"451\": \"gray\", \"452\": \"gray\", \"453\": \"gray\", \"454\": \"gray\", \"455\": \"gray\", \"456\": \"gray\", \"457\": \"gray\", \"458\": \"gray\", \"459\": \"gray\", \"460\": \"gray\", \"461\": \"gray\", \"462\": \"gray\", \"463\": \"gray\", \"464\": \"gray\", \"465\": \"gray\", \"466\": \"gray\", \"467\": \"gray\", \"468\": \"gray\", \"469\": \"gray\", \"470\": \"gray\", \"471\": \"gray\", \"472\": \"gray\", \"473\": \"gray\", \"474\": \"gray\", \"475\": \"gray\", \"476\": \"gray\", \"477\": \"gray\", \"478\": \"gray\", \"479\": \"gray\", \"480\": \"gray\", \"481\": \"gray\", \"482\": \"gray\", \"483\": \"gray\", \"484\": \"gray\", \"485\": \"gray\", \"486\": \"gray\", \"487\": \"gray\", \"488\": \"gray\", \"489\": \"gray\", \"490\": \"gray\", \"491\": \"gray\"}}}});\n\tviewer_16633194717704778.zoomTo();\nviewer_16633194717704778.render();\n});\n</script>",
      "text/html": [
       "<div id=\"3dmolviewer_16633194717704778\"  style=\"position: relative; width: 400px; height: 400px\">\n",
       "        <p id=\"3dmolwarning_16633194717704778\" style=\"background-color:#ffcccc;color:black\">You appear to be running in JupyterLab (or JavaScript failed to load for some other reason).  You need to install the 3dmol extension: <br>\n",
       "        <tt>jupyter labextension install jupyterlab_3dmol</tt></p>\n",
       "        </div>\n",
       "<script>\n",
       "\n",
       "var loadScriptAsync = function(uri){\n",
       "  return new Promise((resolve, reject) => {\n",
       "    var tag = document.createElement('script');\n",
       "    tag.src = uri;\n",
       "    tag.async = true;\n",
       "    tag.onload = () => {\n",
       "      resolve();\n",
       "    };\n",
       "  var firstScriptTag = document.getElementsByTagName('script')[0];\n",
       "  firstScriptTag.parentNode.insertBefore(tag, firstScriptTag);\n",
       "});\n",
       "};\n",
       "\n",
       "if(typeof $3Dmolpromise === 'undefined') {\n",
       "$3Dmolpromise = null;\n",
       "  $3Dmolpromise = loadScriptAsync('https://3dmol.org/build/3Dmol.js');\n",
       "}\n",
       "\n",
       "var viewer_16633194717704778 = null;\n",
       "var warn = document.getElementById(\"3dmolwarning_16633194717704778\");\n",
       "if(warn) {\n",
       "    warn.parentNode.removeChild(warn);\n",
       "}\n",
       "$3Dmolpromise.then(function() {\n",
       "viewer_16633194717704778 = $3Dmol.createViewer($(\"#3dmolviewer_16633194717704778\"),{backgroundColor:\"white\"});\n",
       "viewer_16633194717704778.zoomTo();\n",
       "\tviewer_16633194717704778.removeAllModels();\n",
       "\tviewer_16633194717704778.addModel(\"/home/miquel/mounts/crg_hpc/projects/publication_splicing_dependency/support/MDM2_HsaEX0038400-iso0-included_unrelaxed_rank_1_model_3.pdb\",\"pdb\");\n",
       "\tviewer_16633194717704778.setBackgroundColor(\"black\",1.0);\n",
       "\tviewer_16633194717704778.setStyle({\"chain\": \"A\"},{\"cartoon\": {\"colorscheme\": {\"prop\": \"resi\", \"map\": {\"1\": \"gray\", \"2\": \"gray\", \"3\": \"gray\", \"4\": \"gray\", \"5\": \"gray\", \"6\": \"gray\", \"7\": \"gray\", \"8\": \"gray\", \"9\": \"gray\", \"10\": \"gray\", \"11\": \"gray\", \"12\": \"gray\", \"13\": \"gray\", \"14\": \"gray\", \"15\": \"gray\", \"16\": \"gray\", \"17\": \"green\", \"18\": \"green\", \"19\": \"green\", \"20\": \"green\", \"21\": \"green\", \"22\": \"green\", \"23\": \"green\", \"24\": \"green\", \"25\": \"green\", \"26\": \"green\", \"27\": \"green\", \"28\": \"orange\", \"29\": \"orange\", \"30\": \"orange\", \"31\": \"orange\", \"32\": \"orange\", \"33\": \"orange\", \"34\": \"orange\", \"35\": \"orange\", \"36\": \"orange\", \"37\": \"orange\", \"38\": \"orange\", \"39\": \"orange\", \"40\": \"orange\", \"41\": \"orange\", \"42\": \"orange\", \"43\": \"orange\", \"44\": \"orange\", \"45\": \"orange\", \"46\": \"orange\", \"47\": \"orange\", \"48\": \"orange\", \"49\": \"orange\", \"50\": \"orange\", \"51\": \"orange\", \"52\": \"orange\", \"53\": \"orange\", \"54\": \"blue\", \"55\": \"blue\", \"56\": \"blue\", \"57\": \"blue\", \"58\": \"blue\", \"59\": \"blue\", \"60\": \"blue\", \"61\": \"blue\", \"62\": \"blue\", \"63\": \"blue\", \"64\": \"blue\", \"65\": \"gray\", \"66\": \"gray\", \"67\": \"gray\", \"68\": \"gray\", \"69\": \"gray\", \"70\": \"gray\", \"71\": \"gray\", \"72\": \"gray\", \"73\": \"gray\", \"74\": \"gray\", \"75\": \"gray\", \"76\": \"gray\", \"77\": \"gray\", \"78\": \"gray\", \"79\": \"gray\", \"80\": \"gray\", \"81\": \"gray\", \"82\": \"gray\", \"83\": \"gray\", \"84\": \"gray\", \"85\": \"gray\", \"86\": \"gray\", \"87\": \"gray\", \"88\": \"gray\", \"89\": \"gray\", \"90\": \"gray\", \"91\": \"gray\", \"92\": \"gray\", \"93\": \"gray\", \"94\": \"gray\", \"95\": \"gray\", \"96\": \"gray\", \"97\": \"gray\", \"98\": \"gray\", \"99\": \"gray\", \"100\": \"gray\", \"101\": \"gray\", \"102\": \"gray\", \"103\": \"gray\", \"104\": \"gray\", \"105\": \"gray\", \"106\": \"gray\", \"107\": \"gray\", \"108\": \"gray\", \"109\": \"gray\", \"110\": \"gray\", \"111\": \"gray\", \"112\": \"gray\", \"113\": \"gray\", \"114\": \"gray\", \"115\": \"gray\", \"116\": \"gray\", \"117\": \"gray\", \"118\": \"gray\", \"119\": \"gray\", \"120\": \"gray\", \"121\": \"gray\", \"122\": \"gray\", \"123\": \"gray\", \"124\": \"gray\", \"125\": \"gray\", \"126\": \"gray\", \"127\": \"gray\", \"128\": \"gray\", \"129\": \"gray\", \"130\": \"gray\", \"131\": \"gray\", \"132\": \"gray\", \"133\": \"gray\", \"134\": \"gray\", \"135\": \"gray\", \"136\": \"gray\", \"137\": \"gray\", \"138\": \"gray\", \"139\": \"gray\", \"140\": \"gray\", \"141\": \"gray\", \"142\": \"gray\", \"143\": \"gray\", \"144\": \"gray\", \"145\": \"gray\", \"146\": \"gray\", \"147\": \"gray\", \"148\": \"gray\", \"149\": \"gray\", \"150\": \"gray\", \"151\": \"gray\", \"152\": \"gray\", \"153\": \"gray\", \"154\": \"gray\", \"155\": \"gray\", \"156\": \"gray\", \"157\": \"gray\", \"158\": \"gray\", \"159\": \"gray\", \"160\": \"gray\", \"161\": \"gray\", \"162\": \"gray\", \"163\": \"gray\", \"164\": \"gray\", \"165\": \"gray\", \"166\": \"gray\", \"167\": \"gray\", \"168\": \"gray\", \"169\": \"gray\", \"170\": \"gray\", \"171\": \"gray\", \"172\": \"gray\", \"173\": \"gray\", \"174\": \"gray\", \"175\": \"gray\", \"176\": \"gray\", \"177\": \"gray\", \"178\": \"gray\", \"179\": \"gray\", \"180\": \"gray\", \"181\": \"gray\", \"182\": \"gray\", \"183\": \"gray\", \"184\": \"gray\", \"185\": \"gray\", \"186\": \"gray\", \"187\": \"gray\", \"188\": \"gray\", \"189\": \"gray\", \"190\": \"gray\", \"191\": \"gray\", \"192\": \"gray\", \"193\": \"gray\", \"194\": \"gray\", \"195\": \"gray\", \"196\": \"gray\", \"197\": \"gray\", \"198\": \"gray\", \"199\": \"gray\", \"200\": \"gray\", \"201\": \"gray\", \"202\": \"gray\", \"203\": \"gray\", \"204\": \"gray\", \"205\": \"gray\", \"206\": \"gray\", \"207\": \"gray\", \"208\": \"gray\", \"209\": \"gray\", \"210\": \"gray\", \"211\": \"gray\", \"212\": \"gray\", \"213\": \"gray\", \"214\": \"gray\", \"215\": \"gray\", \"216\": \"gray\", \"217\": \"gray\", \"218\": \"gray\", \"219\": \"gray\", \"220\": \"gray\", \"221\": \"gray\", \"222\": \"gray\", \"223\": \"gray\", \"224\": \"gray\", \"225\": \"gray\", \"226\": \"gray\", \"227\": \"gray\", \"228\": \"gray\", \"229\": \"gray\", \"230\": \"gray\", \"231\": \"gray\", \"232\": \"gray\", \"233\": \"gray\", \"234\": \"gray\", \"235\": \"gray\", \"236\": \"gray\", \"237\": \"gray\", \"238\": \"gray\", \"239\": \"gray\", \"240\": \"gray\", \"241\": \"gray\", \"242\": \"gray\", \"243\": \"gray\", \"244\": \"gray\", \"245\": \"gray\", \"246\": \"gray\", \"247\": \"gray\", \"248\": \"gray\", \"249\": \"gray\", \"250\": \"gray\", \"251\": \"gray\", \"252\": \"gray\", \"253\": \"gray\", \"254\": \"gray\", \"255\": \"gray\", \"256\": \"gray\", \"257\": \"gray\", \"258\": \"gray\", \"259\": \"gray\", \"260\": \"gray\", \"261\": \"gray\", \"262\": \"gray\", \"263\": \"gray\", \"264\": \"gray\", \"265\": \"gray\", \"266\": \"gray\", \"267\": \"gray\", \"268\": \"gray\", \"269\": \"gray\", \"270\": \"gray\", \"271\": \"gray\", \"272\": \"gray\", \"273\": \"gray\", \"274\": \"gray\", \"275\": \"gray\", \"276\": \"gray\", \"277\": \"gray\", \"278\": \"gray\", \"279\": \"gray\", \"280\": \"gray\", \"281\": \"gray\", \"282\": \"gray\", \"283\": \"gray\", \"284\": \"gray\", \"285\": \"gray\", \"286\": \"gray\", \"287\": \"gray\", \"288\": \"gray\", \"289\": \"gray\", \"290\": \"gray\", \"291\": \"gray\", \"292\": \"gray\", \"293\": \"gray\", \"294\": \"gray\", \"295\": \"gray\", \"296\": \"gray\", \"297\": \"gray\", \"298\": \"gray\", \"299\": \"gray\", \"300\": \"gray\", \"301\": \"gray\", \"302\": \"gray\", \"303\": \"gray\", \"304\": \"gray\", \"305\": \"gray\", \"306\": \"gray\", \"307\": \"gray\", \"308\": \"gray\", \"309\": \"gray\", \"310\": \"gray\", \"311\": \"gray\", \"312\": \"gray\", \"313\": \"gray\", \"314\": \"gray\", \"315\": \"gray\", \"316\": \"gray\", \"317\": \"gray\", \"318\": \"gray\", \"319\": \"gray\", \"320\": \"gray\", \"321\": \"gray\", \"322\": \"gray\", \"323\": \"gray\", \"324\": \"gray\", \"325\": \"gray\", \"326\": \"gray\", \"327\": \"gray\", \"328\": \"gray\", \"329\": \"gray\", \"330\": \"gray\", \"331\": \"gray\", \"332\": \"gray\", \"333\": \"gray\", \"334\": \"gray\", \"335\": \"gray\", \"336\": \"gray\", \"337\": \"gray\", \"338\": \"gray\", \"339\": \"gray\", \"340\": \"gray\", \"341\": \"gray\", \"342\": \"gray\", \"343\": \"gray\", \"344\": \"gray\", \"345\": \"gray\", \"346\": \"gray\", \"347\": \"gray\", \"348\": \"gray\", \"349\": \"gray\", \"350\": \"gray\", \"351\": \"gray\", \"352\": \"gray\", \"353\": \"gray\", \"354\": \"gray\", \"355\": \"gray\", \"356\": \"gray\", \"357\": \"gray\", \"358\": \"gray\", \"359\": \"gray\", \"360\": \"gray\", \"361\": \"gray\", \"362\": \"gray\", \"363\": \"gray\", \"364\": \"gray\", \"365\": \"gray\", \"366\": \"gray\", \"367\": \"gray\", \"368\": \"gray\", \"369\": \"gray\", \"370\": \"gray\", \"371\": \"gray\", \"372\": \"gray\", \"373\": \"gray\", \"374\": \"gray\", \"375\": \"gray\", \"376\": \"gray\", \"377\": \"gray\", \"378\": \"gray\", \"379\": \"gray\", \"380\": \"gray\", \"381\": \"gray\", \"382\": \"gray\", \"383\": \"gray\", \"384\": \"gray\", \"385\": \"gray\", \"386\": \"gray\", \"387\": \"gray\", \"388\": \"gray\", \"389\": \"gray\", \"390\": \"gray\", \"391\": \"gray\", \"392\": \"gray\", \"393\": \"gray\", \"394\": \"gray\", \"395\": \"gray\", \"396\": \"gray\", \"397\": \"gray\", \"398\": \"gray\", \"399\": \"gray\", \"400\": \"gray\", \"401\": \"gray\", \"402\": \"gray\", \"403\": \"gray\", \"404\": \"gray\", \"405\": \"gray\", \"406\": \"gray\", \"407\": \"gray\", \"408\": \"gray\", \"409\": \"gray\", \"410\": \"gray\", \"411\": \"gray\", \"412\": \"gray\", \"413\": \"gray\", \"414\": \"gray\", \"415\": \"gray\", \"416\": \"gray\", \"417\": \"gray\", \"418\": \"gray\", \"419\": \"gray\", \"420\": \"gray\", \"421\": \"gray\", \"422\": \"gray\", \"423\": \"gray\", \"424\": \"gray\", \"425\": \"gray\", \"426\": \"gray\", \"427\": \"gray\", \"428\": \"gray\", \"429\": \"gray\", \"430\": \"gray\", \"431\": \"gray\", \"432\": \"gray\", \"433\": \"gray\", \"434\": \"gray\", \"435\": \"gray\", \"436\": \"gray\", \"437\": \"gray\", \"438\": \"gray\", \"439\": \"gray\", \"440\": \"gray\", \"441\": \"gray\", \"442\": \"gray\", \"443\": \"gray\", \"444\": \"gray\", \"445\": \"gray\", \"446\": \"gray\", \"447\": \"gray\", \"448\": \"gray\", \"449\": \"gray\", \"450\": \"gray\", \"451\": \"gray\", \"452\": \"gray\", \"453\": \"gray\", \"454\": \"gray\", \"455\": \"gray\", \"456\": \"gray\", \"457\": \"gray\", \"458\": \"gray\", \"459\": \"gray\", \"460\": \"gray\", \"461\": \"gray\", \"462\": \"gray\", \"463\": \"gray\", \"464\": \"gray\", \"465\": \"gray\", \"466\": \"gray\", \"467\": \"gray\", \"468\": \"gray\", \"469\": \"gray\", \"470\": \"gray\", \"471\": \"gray\", \"472\": \"gray\", \"473\": \"gray\", \"474\": \"gray\", \"475\": \"gray\", \"476\": \"gray\", \"477\": \"gray\", \"478\": \"gray\", \"479\": \"gray\", \"480\": \"gray\", \"481\": \"gray\", \"482\": \"gray\", \"483\": \"gray\", \"484\": \"gray\", \"485\": \"gray\", \"486\": \"gray\", \"487\": \"gray\", \"488\": \"gray\", \"489\": \"gray\", \"490\": \"gray\", \"491\": \"gray\"}}}});\n",
       "\tviewer_16633194717704778.zoomTo();\n",
       "viewer_16633194717704778.render();\n",
       "});\n",
       "</script>"
      ]
     },
     "metadata": {},
     "output_type": "display_data"
    }
   ],
   "source": [
    "view.removeAllModels()\n",
    "view.addModel(pdb_inc_file,'pdb')\n",
    "\n",
    "view.setBackgroundColor('black', 1.0)\n",
    "view.setStyle({'chain':'A'}, {'cartoon':{'colorscheme':{'prop':'resi','map':colors_inc[\"HsaEX0038400\"]}}})\n",
    "\n",
    "view.zoomTo()\n",
    "view.show()"
   ]
  },
  {
   "cell_type": "code",
   "execution_count": 31,
   "id": "9566d934",
   "metadata": {},
   "outputs": [
    {
     "data": {
      "application/3dmoljs_load.v0": "<div id=\"3dmolviewer_16632462514962637\"  style=\"position: relative; width: 400px; height: 400px\">\n        <p id=\"3dmolwarning_16632462514962637\" style=\"background-color:#ffcccc;color:black\">You appear to be running in JupyterLab (or JavaScript failed to load for some other reason).  You need to install the 3dmol extension: <br>\n        <tt>jupyter labextension install jupyterlab_3dmol</tt></p>\n        </div>\n<script>\n\nvar loadScriptAsync = function(uri){\n  return new Promise((resolve, reject) => {\n    var tag = document.createElement('script');\n    tag.src = uri;\n    tag.async = true;\n    tag.onload = () => {\n      resolve();\n    };\n  var firstScriptTag = document.getElementsByTagName('script')[0];\n  firstScriptTag.parentNode.insertBefore(tag, firstScriptTag);\n});\n};\n\nif(typeof $3Dmolpromise === 'undefined') {\n$3Dmolpromise = null;\n  $3Dmolpromise = loadScriptAsync('https://3dmol.org/build/3Dmol.js');\n}\n\nvar viewer_16632462514962637 = null;\nvar warn = document.getElementById(\"3dmolwarning_16632462514962637\");\nif(warn) {\n    warn.parentNode.removeChild(warn);\n}\n$3Dmolpromise.then(function() {\nviewer_16632462514962637 = $3Dmol.createViewer($(\"#3dmolviewer_16632462514962637\"),{backgroundColor:\"white\"});\nviewer_16632462514962637.zoomTo();\n\tviewer_16632462514962637.removeAllModels();\n\tviewer_16632462514962637.addModel(\"/home/miquel/mounts/crg_hpc/projects/publication_splicing_dependency/support/MDM2_HsaEX0038400-iso0-included_unrelaxed_rank_1_model_3.pdb\",\"pdb\");\n\tviewer_16632462514962637.setBackgroundColor(\"black\",1.0);\n\tviewer_16632462514962637.setStyle({\"chain\": \"A\"},{\"cartoon\": {\"colorscheme\": {\"prop\": \"resi\", \"map\": {\"1\": \"gray\", \"2\": \"gray\", \"3\": \"gray\", \"4\": \"gray\", \"5\": \"gray\", \"6\": \"gray\", \"7\": \"gray\", \"8\": \"gray\", \"9\": \"gray\", \"10\": \"gray\", \"11\": \"gray\", \"12\": \"gray\", \"13\": \"gray\", \"14\": \"gray\", \"15\": \"gray\", \"16\": \"gray\", \"17\": \"green\", \"18\": \"green\", \"19\": \"green\", \"20\": \"green\", \"21\": \"green\", \"22\": \"green\", \"23\": \"green\", \"24\": \"green\", \"25\": \"green\", \"26\": \"green\", \"27\": \"green\", \"28\": \"orange\", \"29\": \"orange\", \"30\": \"orange\", \"31\": \"orange\", \"32\": \"orange\", \"33\": \"orange\", \"34\": \"orange\", \"35\": \"orange\", \"36\": \"orange\", \"37\": \"orange\", \"38\": \"orange\", \"39\": \"orange\", \"40\": \"orange\", \"41\": \"orange\", \"42\": \"orange\", \"43\": \"orange\", \"44\": \"orange\", \"45\": \"orange\", \"46\": \"orange\", \"47\": \"orange\", \"48\": \"orange\", \"49\": \"orange\", \"50\": \"orange\", \"51\": \"orange\", \"52\": \"orange\", \"53\": \"orange\", \"54\": \"blue\", \"55\": \"blue\", \"56\": \"blue\", \"57\": \"blue\", \"58\": \"blue\", \"59\": \"blue\", \"60\": \"blue\", \"61\": \"blue\", \"62\": \"blue\", \"63\": \"blue\", \"64\": \"blue\", \"65\": \"gray\", \"66\": \"gray\", \"67\": \"gray\", \"68\": \"gray\", \"69\": \"gray\", \"70\": \"gray\", \"71\": \"gray\", \"72\": \"gray\", \"73\": \"gray\", \"74\": \"gray\", \"75\": \"gray\", \"76\": \"gray\", \"77\": \"gray\", \"78\": \"gray\", \"79\": \"gray\", \"80\": \"gray\", \"81\": \"gray\", \"82\": \"gray\", \"83\": \"gray\", \"84\": \"gray\", \"85\": \"gray\", \"86\": \"gray\", \"87\": \"gray\", \"88\": \"gray\", \"89\": \"gray\", \"90\": \"gray\", \"91\": \"gray\", \"92\": \"gray\", \"93\": \"gray\", \"94\": \"gray\", \"95\": \"gray\", \"96\": \"gray\", \"97\": \"gray\", \"98\": \"gray\", \"99\": \"gray\", \"100\": \"gray\", \"101\": \"gray\", \"102\": \"gray\", \"103\": \"gray\", \"104\": \"gray\", \"105\": \"gray\", \"106\": \"gray\", \"107\": \"gray\", \"108\": \"gray\", \"109\": \"gray\", \"110\": \"gray\", \"111\": \"gray\", \"112\": \"gray\", \"113\": \"gray\", \"114\": \"gray\", \"115\": \"gray\", \"116\": \"gray\", \"117\": \"gray\", \"118\": \"gray\", \"119\": \"gray\", \"120\": \"gray\", \"121\": \"gray\", \"122\": \"gray\", \"123\": \"gray\", \"124\": \"gray\", \"125\": \"gray\", \"126\": \"gray\", \"127\": \"gray\", \"128\": \"gray\", \"129\": \"gray\", \"130\": \"gray\", \"131\": \"gray\", \"132\": \"gray\", \"133\": \"gray\", \"134\": \"gray\", \"135\": \"gray\", \"136\": \"gray\", \"137\": \"gray\", \"138\": \"gray\", \"139\": \"gray\", \"140\": \"gray\", \"141\": \"gray\", \"142\": \"gray\", \"143\": \"gray\", \"144\": \"gray\", \"145\": \"gray\", \"146\": \"gray\", \"147\": \"gray\", \"148\": \"gray\", \"149\": \"gray\", \"150\": \"gray\", \"151\": \"gray\", \"152\": \"gray\", \"153\": \"gray\", \"154\": \"gray\", \"155\": \"gray\", \"156\": \"gray\", \"157\": \"gray\", \"158\": \"gray\", \"159\": \"gray\", \"160\": \"gray\", \"161\": \"gray\", \"162\": \"gray\", \"163\": \"gray\", \"164\": \"gray\", \"165\": \"gray\", \"166\": \"gray\", \"167\": \"gray\", \"168\": \"gray\", \"169\": \"gray\", \"170\": \"gray\", \"171\": \"gray\", \"172\": \"gray\", \"173\": \"gray\", \"174\": \"gray\", \"175\": \"gray\", \"176\": \"gray\", \"177\": \"gray\", \"178\": \"gray\", \"179\": \"gray\", \"180\": \"gray\", \"181\": \"gray\", \"182\": \"gray\", \"183\": \"gray\", \"184\": \"gray\", \"185\": \"gray\", \"186\": \"gray\", \"187\": \"gray\", \"188\": \"gray\", \"189\": \"gray\", \"190\": \"gray\", \"191\": \"gray\", \"192\": \"gray\", \"193\": \"gray\", \"194\": \"gray\", \"195\": \"gray\", \"196\": \"gray\", \"197\": \"gray\", \"198\": \"gray\", \"199\": \"gray\", \"200\": \"gray\", \"201\": \"gray\", \"202\": \"gray\", \"203\": \"gray\", \"204\": \"gray\", \"205\": \"gray\", \"206\": \"gray\", \"207\": \"gray\", \"208\": \"gray\", \"209\": \"gray\", \"210\": \"gray\", \"211\": \"gray\", \"212\": \"gray\", \"213\": \"gray\", \"214\": \"gray\", \"215\": \"gray\", \"216\": \"gray\", \"217\": \"gray\", \"218\": \"gray\", \"219\": \"gray\", \"220\": \"gray\", \"221\": \"gray\", \"222\": \"gray\", \"223\": \"gray\", \"224\": \"gray\", \"225\": \"gray\", \"226\": \"gray\", \"227\": \"gray\", \"228\": \"gray\", \"229\": \"gray\", \"230\": \"gray\", \"231\": \"gray\", \"232\": \"gray\", \"233\": \"gray\", \"234\": \"gray\", \"235\": \"gray\", \"236\": \"gray\", \"237\": \"gray\", \"238\": \"gray\", \"239\": \"gray\", \"240\": \"gray\", \"241\": \"gray\", \"242\": \"gray\", \"243\": \"gray\", \"244\": \"gray\", \"245\": \"gray\", \"246\": \"gray\", \"247\": \"gray\", \"248\": \"gray\", \"249\": \"gray\", \"250\": \"gray\", \"251\": \"gray\", \"252\": \"gray\", \"253\": \"gray\", \"254\": \"gray\", \"255\": \"gray\", \"256\": \"gray\", \"257\": \"gray\", \"258\": \"gray\", \"259\": \"gray\", \"260\": \"gray\", \"261\": \"gray\", \"262\": \"gray\", \"263\": \"gray\", \"264\": \"gray\", \"265\": \"gray\", \"266\": \"gray\", \"267\": \"gray\", \"268\": \"gray\", \"269\": \"gray\", \"270\": \"gray\", \"271\": \"gray\", \"272\": \"gray\", \"273\": \"gray\", \"274\": \"gray\", \"275\": \"gray\", \"276\": \"gray\", \"277\": \"gray\", \"278\": \"gray\", \"279\": \"gray\", \"280\": \"gray\", \"281\": \"gray\", \"282\": \"gray\", \"283\": \"gray\", \"284\": \"gray\", \"285\": \"gray\", \"286\": \"gray\", \"287\": \"gray\", \"288\": \"gray\", \"289\": \"gray\", \"290\": \"gray\", \"291\": \"gray\", \"292\": \"gray\", \"293\": \"gray\", \"294\": \"gray\", \"295\": \"gray\", \"296\": \"gray\", \"297\": \"gray\", \"298\": \"gray\", \"299\": \"gray\", \"300\": \"gray\", \"301\": \"gray\", \"302\": \"gray\", \"303\": \"gray\", \"304\": \"gray\", \"305\": \"gray\", \"306\": \"gray\", \"307\": \"gray\", \"308\": \"gray\", \"309\": \"gray\", \"310\": \"gray\", \"311\": \"gray\", \"312\": \"gray\", \"313\": \"gray\", \"314\": \"gray\", \"315\": \"gray\", \"316\": \"gray\", \"317\": \"gray\", \"318\": \"gray\", \"319\": \"gray\", \"320\": \"gray\", \"321\": \"gray\", \"322\": \"gray\", \"323\": \"gray\", \"324\": \"gray\", \"325\": \"gray\", \"326\": \"gray\", \"327\": \"gray\", \"328\": \"gray\", \"329\": \"gray\", \"330\": \"gray\", \"331\": \"gray\", \"332\": \"gray\", \"333\": \"gray\", \"334\": \"gray\", \"335\": \"gray\", \"336\": \"gray\", \"337\": \"gray\", \"338\": \"gray\", \"339\": \"gray\", \"340\": \"gray\", \"341\": \"gray\", \"342\": \"gray\", \"343\": \"gray\", \"344\": \"gray\", \"345\": \"gray\", \"346\": \"gray\", \"347\": \"gray\", \"348\": \"gray\", \"349\": \"gray\", \"350\": \"gray\", \"351\": \"gray\", \"352\": \"gray\", \"353\": \"gray\", \"354\": \"gray\", \"355\": \"gray\", \"356\": \"gray\", \"357\": \"gray\", \"358\": \"gray\", \"359\": \"gray\", \"360\": \"gray\", \"361\": \"gray\", \"362\": \"gray\", \"363\": \"gray\", \"364\": \"gray\", \"365\": \"gray\", \"366\": \"gray\", \"367\": \"gray\", \"368\": \"gray\", \"369\": \"gray\", \"370\": \"gray\", \"371\": \"gray\", \"372\": \"gray\", \"373\": \"gray\", \"374\": \"gray\", \"375\": \"gray\", \"376\": \"gray\", \"377\": \"gray\", \"378\": \"gray\", \"379\": \"gray\", \"380\": \"gray\", \"381\": \"gray\", \"382\": \"gray\", \"383\": \"gray\", \"384\": \"gray\", \"385\": \"gray\", \"386\": \"gray\", \"387\": \"gray\", \"388\": \"gray\", \"389\": \"gray\", \"390\": \"gray\", \"391\": \"gray\", \"392\": \"gray\", \"393\": \"gray\", \"394\": \"gray\", \"395\": \"gray\", \"396\": \"gray\", \"397\": \"gray\", \"398\": \"gray\", \"399\": \"gray\", \"400\": \"gray\", \"401\": \"gray\", \"402\": \"gray\", \"403\": \"gray\", \"404\": \"gray\", \"405\": \"gray\", \"406\": \"gray\", \"407\": \"gray\", \"408\": \"gray\", \"409\": \"gray\", \"410\": \"gray\", \"411\": \"gray\", \"412\": \"gray\", \"413\": \"gray\", \"414\": \"gray\", \"415\": \"gray\", \"416\": \"gray\", \"417\": \"gray\", \"418\": \"gray\", \"419\": \"gray\", \"420\": \"gray\", \"421\": \"gray\", \"422\": \"gray\", \"423\": \"gray\", \"424\": \"gray\", \"425\": \"gray\", \"426\": \"gray\", \"427\": \"gray\", \"428\": \"gray\", \"429\": \"gray\", \"430\": \"gray\", \"431\": \"gray\", \"432\": \"gray\", \"433\": \"gray\", \"434\": \"gray\", \"435\": \"gray\", \"436\": \"gray\", \"437\": \"gray\", \"438\": \"gray\", \"439\": \"gray\", \"440\": \"gray\", \"441\": \"gray\", \"442\": \"gray\", \"443\": \"gray\", \"444\": \"gray\", \"445\": \"gray\", \"446\": \"gray\", \"447\": \"gray\", \"448\": \"gray\", \"449\": \"gray\", \"450\": \"gray\", \"451\": \"gray\", \"452\": \"gray\", \"453\": \"gray\", \"454\": \"gray\", \"455\": \"gray\", \"456\": \"gray\", \"457\": \"gray\", \"458\": \"gray\", \"459\": \"gray\", \"460\": \"gray\", \"461\": \"gray\", \"462\": \"gray\", \"463\": \"gray\", \"464\": \"gray\", \"465\": \"gray\", \"466\": \"gray\", \"467\": \"gray\", \"468\": \"gray\", \"469\": \"gray\", \"470\": \"gray\", \"471\": \"gray\", \"472\": \"gray\", \"473\": \"gray\", \"474\": \"gray\", \"475\": \"gray\", \"476\": \"gray\", \"477\": \"gray\", \"478\": \"gray\", \"479\": \"gray\", \"480\": \"gray\", \"481\": \"gray\", \"482\": \"gray\", \"483\": \"gray\", \"484\": \"gray\", \"485\": \"gray\", \"486\": \"gray\", \"487\": \"gray\", \"488\": \"gray\", \"489\": \"gray\", \"490\": \"gray\", \"491\": \"gray\"}}}});\n\tviewer_16632462514962637.zoomTo();\n\tviewer_16632462514962637.removeAllModels();\n\tviewer_16632462514962637.addModel(\"/home/miquel/mounts/crg_hpc/projects/publication_splicing_dependency/support/MDM2_HsaEX0038400-iso0-excluded_unrelaxed_rank_1_model_3.pdb\",\"pdb\");\n\tviewer_16632462514962637.setBackgroundColor(\"black\",1.0);\n\tviewer_16632462514962637.setStyle({\"chain\": \"A\"},{\"cartoon\": {\"colorscheme\": {\"prop\": \"resi\", \"map\": {\"1\": \"gray\", \"2\": \"gray\", \"3\": \"gray\", \"4\": \"gray\", \"5\": \"gray\", \"6\": \"gray\", \"7\": \"gray\", \"8\": \"gray\", \"9\": \"gray\", \"10\": \"gray\", \"11\": \"gray\", \"12\": \"gray\", \"13\": \"gray\", \"14\": \"gray\", \"15\": \"gray\", \"16\": \"gray\", \"17\": \"green\", \"18\": \"green\", \"19\": \"green\", \"20\": \"green\", \"21\": \"green\", \"22\": \"green\", \"23\": \"green\", \"24\": \"green\", \"25\": \"green\", \"26\": \"green\", \"27\": \"green\", \"28\": \"blue\", \"29\": \"blue\", \"30\": \"blue\", \"31\": \"blue\", \"32\": \"blue\", \"33\": \"blue\", \"34\": \"blue\", \"35\": \"blue\", \"36\": \"blue\", \"37\": \"blue\", \"38\": \"blue\", \"39\": \"gray\", \"40\": \"gray\", \"41\": \"gray\", \"42\": \"gray\", \"43\": \"gray\", \"44\": \"gray\", \"45\": \"gray\", \"46\": \"gray\", \"47\": \"gray\", \"48\": \"gray\", \"49\": \"gray\", \"50\": \"gray\", \"51\": \"gray\", \"52\": \"gray\", \"53\": \"gray\", \"54\": \"gray\", \"55\": \"gray\", \"56\": \"gray\", \"57\": \"gray\", \"58\": \"gray\", \"59\": \"gray\", \"60\": \"gray\", \"61\": \"gray\", \"62\": \"gray\", \"63\": \"gray\", \"64\": \"gray\", \"65\": \"gray\", \"66\": \"gray\", \"67\": \"gray\", \"68\": \"gray\", \"69\": \"gray\", \"70\": \"gray\", \"71\": \"gray\", \"72\": \"gray\", \"73\": \"gray\", \"74\": \"gray\", \"75\": \"gray\", \"76\": \"gray\", \"77\": \"gray\", \"78\": \"gray\", \"79\": \"gray\", \"80\": \"gray\", \"81\": \"gray\", \"82\": \"gray\", \"83\": \"gray\", \"84\": \"gray\", \"85\": \"gray\", \"86\": \"gray\", \"87\": \"gray\", \"88\": \"gray\", \"89\": \"gray\", \"90\": \"gray\", \"91\": \"gray\", \"92\": \"gray\", \"93\": \"gray\", \"94\": \"gray\", \"95\": \"gray\", \"96\": \"gray\", \"97\": \"gray\", \"98\": \"gray\", \"99\": \"gray\", \"100\": \"gray\", \"101\": \"gray\", \"102\": \"gray\", \"103\": \"gray\", \"104\": \"gray\", \"105\": \"gray\", \"106\": \"gray\", \"107\": \"gray\", \"108\": \"gray\", \"109\": \"gray\", \"110\": \"gray\", \"111\": \"gray\", \"112\": \"gray\", \"113\": \"gray\", \"114\": \"gray\", \"115\": \"gray\", \"116\": \"gray\", \"117\": \"gray\", \"118\": \"gray\", \"119\": \"gray\", \"120\": \"gray\", \"121\": \"gray\", \"122\": \"gray\", \"123\": \"gray\", \"124\": \"gray\", \"125\": \"gray\", \"126\": \"gray\", \"127\": \"gray\", \"128\": \"gray\", \"129\": \"gray\", \"130\": \"gray\", \"131\": \"gray\", \"132\": \"gray\", \"133\": \"gray\", \"134\": \"gray\", \"135\": \"gray\", \"136\": \"gray\", \"137\": \"gray\", \"138\": \"gray\", \"139\": \"gray\", \"140\": \"gray\", \"141\": \"gray\", \"142\": \"gray\", \"143\": \"gray\", \"144\": \"gray\", \"145\": \"gray\", \"146\": \"gray\", \"147\": \"gray\", \"148\": \"gray\", \"149\": \"gray\", \"150\": \"gray\", \"151\": \"gray\", \"152\": \"gray\", \"153\": \"gray\", \"154\": \"gray\", \"155\": \"gray\", \"156\": \"gray\", \"157\": \"gray\", \"158\": \"gray\", \"159\": \"gray\", \"160\": \"gray\", \"161\": \"gray\", \"162\": \"gray\", \"163\": \"gray\", \"164\": \"gray\", \"165\": \"gray\", \"166\": \"gray\", \"167\": \"gray\", \"168\": \"gray\", \"169\": \"gray\", \"170\": \"gray\", \"171\": \"gray\", \"172\": \"gray\", \"173\": \"gray\", \"174\": \"gray\", \"175\": \"gray\", \"176\": \"gray\", \"177\": \"gray\", \"178\": \"gray\", \"179\": \"gray\", \"180\": \"gray\", \"181\": \"gray\", \"182\": \"gray\", \"183\": \"gray\", \"184\": \"gray\", \"185\": \"gray\", \"186\": \"gray\", \"187\": \"gray\", \"188\": \"gray\", \"189\": \"gray\", \"190\": \"gray\", \"191\": \"gray\", \"192\": \"gray\", \"193\": \"gray\", \"194\": \"gray\", \"195\": \"gray\", \"196\": \"gray\", \"197\": \"gray\", \"198\": \"gray\", \"199\": \"gray\", \"200\": \"gray\", \"201\": \"gray\", \"202\": \"gray\", \"203\": \"gray\", \"204\": \"gray\", \"205\": \"gray\", \"206\": \"gray\", \"207\": \"gray\", \"208\": \"gray\", \"209\": \"gray\", \"210\": \"gray\", \"211\": \"gray\", \"212\": \"gray\", \"213\": \"gray\", \"214\": \"gray\", \"215\": \"gray\", \"216\": \"gray\", \"217\": \"gray\", \"218\": \"gray\", \"219\": \"gray\", \"220\": \"gray\", \"221\": \"gray\", \"222\": \"gray\", \"223\": \"gray\", \"224\": \"gray\", \"225\": \"gray\", \"226\": \"gray\", \"227\": \"gray\", \"228\": \"gray\", \"229\": \"gray\", \"230\": \"gray\", \"231\": \"gray\", \"232\": \"gray\", \"233\": \"gray\", \"234\": \"gray\", \"235\": \"gray\", \"236\": \"gray\", \"237\": \"gray\", \"238\": \"gray\", \"239\": \"gray\", \"240\": \"gray\", \"241\": \"gray\", \"242\": \"gray\", \"243\": \"gray\", \"244\": \"gray\", \"245\": \"gray\", \"246\": \"gray\", \"247\": \"gray\", \"248\": \"gray\", \"249\": \"gray\", \"250\": \"gray\", \"251\": \"gray\", \"252\": \"gray\", \"253\": \"gray\", \"254\": \"gray\", \"255\": \"gray\", \"256\": \"gray\", \"257\": \"gray\", \"258\": \"gray\", \"259\": \"gray\", \"260\": \"gray\", \"261\": \"gray\", \"262\": \"gray\", \"263\": \"gray\", \"264\": \"gray\", \"265\": \"gray\", \"266\": \"gray\", \"267\": \"gray\", \"268\": \"gray\", \"269\": \"gray\", \"270\": \"gray\", \"271\": \"gray\", \"272\": \"gray\", \"273\": \"gray\", \"274\": \"gray\", \"275\": \"gray\", \"276\": \"gray\", \"277\": \"gray\", \"278\": \"gray\", \"279\": \"gray\", \"280\": \"gray\", \"281\": \"gray\", \"282\": \"gray\", \"283\": \"gray\", \"284\": \"gray\", \"285\": \"gray\", \"286\": \"gray\", \"287\": \"gray\", \"288\": \"gray\", \"289\": \"gray\", \"290\": \"gray\", \"291\": \"gray\", \"292\": \"gray\", \"293\": \"gray\", \"294\": \"gray\", \"295\": \"gray\", \"296\": \"gray\", \"297\": \"gray\", \"298\": \"gray\", \"299\": \"gray\", \"300\": \"gray\", \"301\": \"gray\", \"302\": \"gray\", \"303\": \"gray\", \"304\": \"gray\", \"305\": \"gray\", \"306\": \"gray\", \"307\": \"gray\", \"308\": \"gray\", \"309\": \"gray\", \"310\": \"gray\", \"311\": \"gray\", \"312\": \"gray\", \"313\": \"gray\", \"314\": \"gray\", \"315\": \"gray\", \"316\": \"gray\", \"317\": \"gray\", \"318\": \"gray\", \"319\": \"gray\", \"320\": \"gray\", \"321\": \"gray\", \"322\": \"gray\", \"323\": \"gray\", \"324\": \"gray\", \"325\": \"gray\", \"326\": \"gray\", \"327\": \"gray\", \"328\": \"gray\", \"329\": \"gray\", \"330\": \"gray\", \"331\": \"gray\", \"332\": \"gray\", \"333\": \"gray\", \"334\": \"gray\", \"335\": \"gray\", \"336\": \"gray\", \"337\": \"gray\", \"338\": \"gray\", \"339\": \"gray\", \"340\": \"gray\", \"341\": \"gray\", \"342\": \"gray\", \"343\": \"gray\", \"344\": \"gray\", \"345\": \"gray\", \"346\": \"gray\", \"347\": \"gray\", \"348\": \"gray\", \"349\": \"gray\", \"350\": \"gray\", \"351\": \"gray\", \"352\": \"gray\", \"353\": \"gray\", \"354\": \"gray\", \"355\": \"gray\", \"356\": \"gray\", \"357\": \"gray\", \"358\": \"gray\", \"359\": \"gray\", \"360\": \"gray\", \"361\": \"gray\", \"362\": \"gray\", \"363\": \"gray\", \"364\": \"gray\", \"365\": \"gray\", \"366\": \"gray\", \"367\": \"gray\", \"368\": \"gray\", \"369\": \"gray\", \"370\": \"gray\", \"371\": \"gray\", \"372\": \"gray\", \"373\": \"gray\", \"374\": \"gray\", \"375\": \"gray\", \"376\": \"gray\", \"377\": \"gray\", \"378\": \"gray\", \"379\": \"gray\", \"380\": \"gray\", \"381\": \"gray\", \"382\": \"gray\", \"383\": \"gray\", \"384\": \"gray\", \"385\": \"gray\", \"386\": \"gray\", \"387\": \"gray\", \"388\": \"gray\", \"389\": \"gray\", \"390\": \"gray\", \"391\": \"gray\", \"392\": \"gray\", \"393\": \"gray\", \"394\": \"gray\", \"395\": \"gray\", \"396\": \"gray\", \"397\": \"gray\", \"398\": \"gray\", \"399\": \"gray\", \"400\": \"gray\", \"401\": \"gray\", \"402\": \"gray\", \"403\": \"gray\", \"404\": \"gray\", \"405\": \"gray\", \"406\": \"gray\", \"407\": \"gray\", \"408\": \"gray\", \"409\": \"gray\", \"410\": \"gray\", \"411\": \"gray\", \"412\": \"gray\", \"413\": \"gray\", \"414\": \"gray\", \"415\": \"gray\", \"416\": \"gray\", \"417\": \"gray\", \"418\": \"gray\", \"419\": \"gray\", \"420\": \"gray\", \"421\": \"gray\", \"422\": \"gray\", \"423\": \"gray\", \"424\": \"gray\", \"425\": \"gray\", \"426\": \"gray\", \"427\": \"gray\", \"428\": \"gray\", \"429\": \"gray\", \"430\": \"gray\", \"431\": \"gray\", \"432\": \"gray\", \"433\": \"gray\", \"434\": \"gray\", \"435\": \"gray\", \"436\": \"gray\", \"437\": \"gray\", \"438\": \"gray\", \"439\": \"gray\", \"440\": \"gray\", \"441\": \"gray\", \"442\": \"gray\", \"443\": \"gray\", \"444\": \"gray\", \"445\": \"gray\", \"446\": \"gray\", \"447\": \"gray\", \"448\": \"gray\", \"449\": \"gray\", \"450\": \"gray\", \"451\": \"gray\", \"452\": \"gray\", \"453\": \"gray\", \"454\": \"gray\", \"455\": \"gray\", \"456\": \"gray\", \"457\": \"gray\", \"458\": \"gray\", \"459\": \"gray\", \"460\": \"gray\", \"461\": \"gray\", \"462\": \"gray\", \"463\": \"gray\", \"464\": \"gray\", \"465\": \"gray\", \"466\": \"gray\"}}}});\n\tviewer_16632462514962637.zoomTo();\nviewer_16632462514962637.render();\n});\n</script>",
      "text/html": [
       "<div id=\"3dmolviewer_16632462514962637\"  style=\"position: relative; width: 400px; height: 400px\">\n",
       "        <p id=\"3dmolwarning_16632462514962637\" style=\"background-color:#ffcccc;color:black\">You appear to be running in JupyterLab (or JavaScript failed to load for some other reason).  You need to install the 3dmol extension: <br>\n",
       "        <tt>jupyter labextension install jupyterlab_3dmol</tt></p>\n",
       "        </div>\n",
       "<script>\n",
       "\n",
       "var loadScriptAsync = function(uri){\n",
       "  return new Promise((resolve, reject) => {\n",
       "    var tag = document.createElement('script');\n",
       "    tag.src = uri;\n",
       "    tag.async = true;\n",
       "    tag.onload = () => {\n",
       "      resolve();\n",
       "    };\n",
       "  var firstScriptTag = document.getElementsByTagName('script')[0];\n",
       "  firstScriptTag.parentNode.insertBefore(tag, firstScriptTag);\n",
       "});\n",
       "};\n",
       "\n",
       "if(typeof $3Dmolpromise === 'undefined') {\n",
       "$3Dmolpromise = null;\n",
       "  $3Dmolpromise = loadScriptAsync('https://3dmol.org/build/3Dmol.js');\n",
       "}\n",
       "\n",
       "var viewer_16632462514962637 = null;\n",
       "var warn = document.getElementById(\"3dmolwarning_16632462514962637\");\n",
       "if(warn) {\n",
       "    warn.parentNode.removeChild(warn);\n",
       "}\n",
       "$3Dmolpromise.then(function() {\n",
       "viewer_16632462514962637 = $3Dmol.createViewer($(\"#3dmolviewer_16632462514962637\"),{backgroundColor:\"white\"});\n",
       "viewer_16632462514962637.zoomTo();\n",
       "\tviewer_16632462514962637.removeAllModels();\n",
       "\tviewer_16632462514962637.addModel(\"/home/miquel/mounts/crg_hpc/projects/publication_splicing_dependency/support/MDM2_HsaEX0038400-iso0-included_unrelaxed_rank_1_model_3.pdb\",\"pdb\");\n",
       "\tviewer_16632462514962637.setBackgroundColor(\"black\",1.0);\n",
       "\tviewer_16632462514962637.setStyle({\"chain\": \"A\"},{\"cartoon\": {\"colorscheme\": {\"prop\": \"resi\", \"map\": {\"1\": \"gray\", \"2\": \"gray\", \"3\": \"gray\", \"4\": \"gray\", \"5\": \"gray\", \"6\": \"gray\", \"7\": \"gray\", \"8\": \"gray\", \"9\": \"gray\", \"10\": \"gray\", \"11\": \"gray\", \"12\": \"gray\", \"13\": \"gray\", \"14\": \"gray\", \"15\": \"gray\", \"16\": \"gray\", \"17\": \"green\", \"18\": \"green\", \"19\": \"green\", \"20\": \"green\", \"21\": \"green\", \"22\": \"green\", \"23\": \"green\", \"24\": \"green\", \"25\": \"green\", \"26\": \"green\", \"27\": \"green\", \"28\": \"orange\", \"29\": \"orange\", \"30\": \"orange\", \"31\": \"orange\", \"32\": \"orange\", \"33\": \"orange\", \"34\": \"orange\", \"35\": \"orange\", \"36\": \"orange\", \"37\": \"orange\", \"38\": \"orange\", \"39\": \"orange\", \"40\": \"orange\", \"41\": \"orange\", \"42\": \"orange\", \"43\": \"orange\", \"44\": \"orange\", \"45\": \"orange\", \"46\": \"orange\", \"47\": \"orange\", \"48\": \"orange\", \"49\": \"orange\", \"50\": \"orange\", \"51\": \"orange\", \"52\": \"orange\", \"53\": \"orange\", \"54\": \"blue\", \"55\": \"blue\", \"56\": \"blue\", \"57\": \"blue\", \"58\": \"blue\", \"59\": \"blue\", \"60\": \"blue\", \"61\": \"blue\", \"62\": \"blue\", \"63\": \"blue\", \"64\": \"blue\", \"65\": \"gray\", \"66\": \"gray\", \"67\": \"gray\", \"68\": \"gray\", \"69\": \"gray\", \"70\": \"gray\", \"71\": \"gray\", \"72\": \"gray\", \"73\": \"gray\", \"74\": \"gray\", \"75\": \"gray\", \"76\": \"gray\", \"77\": \"gray\", \"78\": \"gray\", \"79\": \"gray\", \"80\": \"gray\", \"81\": \"gray\", \"82\": \"gray\", \"83\": \"gray\", \"84\": \"gray\", \"85\": \"gray\", \"86\": \"gray\", \"87\": \"gray\", \"88\": \"gray\", \"89\": \"gray\", \"90\": \"gray\", \"91\": \"gray\", \"92\": \"gray\", \"93\": \"gray\", \"94\": \"gray\", \"95\": \"gray\", \"96\": \"gray\", \"97\": \"gray\", \"98\": \"gray\", \"99\": \"gray\", \"100\": \"gray\", \"101\": \"gray\", \"102\": \"gray\", \"103\": \"gray\", \"104\": \"gray\", \"105\": \"gray\", \"106\": \"gray\", \"107\": \"gray\", \"108\": \"gray\", \"109\": \"gray\", \"110\": \"gray\", \"111\": \"gray\", \"112\": \"gray\", \"113\": \"gray\", \"114\": \"gray\", \"115\": \"gray\", \"116\": \"gray\", \"117\": \"gray\", \"118\": \"gray\", \"119\": \"gray\", \"120\": \"gray\", \"121\": \"gray\", \"122\": \"gray\", \"123\": \"gray\", \"124\": \"gray\", \"125\": \"gray\", \"126\": \"gray\", \"127\": \"gray\", \"128\": \"gray\", \"129\": \"gray\", \"130\": \"gray\", \"131\": \"gray\", \"132\": \"gray\", \"133\": \"gray\", \"134\": \"gray\", \"135\": \"gray\", \"136\": \"gray\", \"137\": \"gray\", \"138\": \"gray\", \"139\": \"gray\", \"140\": \"gray\", \"141\": \"gray\", \"142\": \"gray\", \"143\": \"gray\", \"144\": \"gray\", \"145\": \"gray\", \"146\": \"gray\", \"147\": \"gray\", \"148\": \"gray\", \"149\": \"gray\", \"150\": \"gray\", \"151\": \"gray\", \"152\": \"gray\", \"153\": \"gray\", \"154\": \"gray\", \"155\": \"gray\", \"156\": \"gray\", \"157\": \"gray\", \"158\": \"gray\", \"159\": \"gray\", \"160\": \"gray\", \"161\": \"gray\", \"162\": \"gray\", \"163\": \"gray\", \"164\": \"gray\", \"165\": \"gray\", \"166\": \"gray\", \"167\": \"gray\", \"168\": \"gray\", \"169\": \"gray\", \"170\": \"gray\", \"171\": \"gray\", \"172\": \"gray\", \"173\": \"gray\", \"174\": \"gray\", \"175\": \"gray\", \"176\": \"gray\", \"177\": \"gray\", \"178\": \"gray\", \"179\": \"gray\", \"180\": \"gray\", \"181\": \"gray\", \"182\": \"gray\", \"183\": \"gray\", \"184\": \"gray\", \"185\": \"gray\", \"186\": \"gray\", \"187\": \"gray\", \"188\": \"gray\", \"189\": \"gray\", \"190\": \"gray\", \"191\": \"gray\", \"192\": \"gray\", \"193\": \"gray\", \"194\": \"gray\", \"195\": \"gray\", \"196\": \"gray\", \"197\": \"gray\", \"198\": \"gray\", \"199\": \"gray\", \"200\": \"gray\", \"201\": \"gray\", \"202\": \"gray\", \"203\": \"gray\", \"204\": \"gray\", \"205\": \"gray\", \"206\": \"gray\", \"207\": \"gray\", \"208\": \"gray\", \"209\": \"gray\", \"210\": \"gray\", \"211\": \"gray\", \"212\": \"gray\", \"213\": \"gray\", \"214\": \"gray\", \"215\": \"gray\", \"216\": \"gray\", \"217\": \"gray\", \"218\": \"gray\", \"219\": \"gray\", \"220\": \"gray\", \"221\": \"gray\", \"222\": \"gray\", \"223\": \"gray\", \"224\": \"gray\", \"225\": \"gray\", \"226\": \"gray\", \"227\": \"gray\", \"228\": \"gray\", \"229\": \"gray\", \"230\": \"gray\", \"231\": \"gray\", \"232\": \"gray\", \"233\": \"gray\", \"234\": \"gray\", \"235\": \"gray\", \"236\": \"gray\", \"237\": \"gray\", \"238\": \"gray\", \"239\": \"gray\", \"240\": \"gray\", \"241\": \"gray\", \"242\": \"gray\", \"243\": \"gray\", \"244\": \"gray\", \"245\": \"gray\", \"246\": \"gray\", \"247\": \"gray\", \"248\": \"gray\", \"249\": \"gray\", \"250\": \"gray\", \"251\": \"gray\", \"252\": \"gray\", \"253\": \"gray\", \"254\": \"gray\", \"255\": \"gray\", \"256\": \"gray\", \"257\": \"gray\", \"258\": \"gray\", \"259\": \"gray\", \"260\": \"gray\", \"261\": \"gray\", \"262\": \"gray\", \"263\": \"gray\", \"264\": \"gray\", \"265\": \"gray\", \"266\": \"gray\", \"267\": \"gray\", \"268\": \"gray\", \"269\": \"gray\", \"270\": \"gray\", \"271\": \"gray\", \"272\": \"gray\", \"273\": \"gray\", \"274\": \"gray\", \"275\": \"gray\", \"276\": \"gray\", \"277\": \"gray\", \"278\": \"gray\", \"279\": \"gray\", \"280\": \"gray\", \"281\": \"gray\", \"282\": \"gray\", \"283\": \"gray\", \"284\": \"gray\", \"285\": \"gray\", \"286\": \"gray\", \"287\": \"gray\", \"288\": \"gray\", \"289\": \"gray\", \"290\": \"gray\", \"291\": \"gray\", \"292\": \"gray\", \"293\": \"gray\", \"294\": \"gray\", \"295\": \"gray\", \"296\": \"gray\", \"297\": \"gray\", \"298\": \"gray\", \"299\": \"gray\", \"300\": \"gray\", \"301\": \"gray\", \"302\": \"gray\", \"303\": \"gray\", \"304\": \"gray\", \"305\": \"gray\", \"306\": \"gray\", \"307\": \"gray\", \"308\": \"gray\", \"309\": \"gray\", \"310\": \"gray\", \"311\": \"gray\", \"312\": \"gray\", \"313\": \"gray\", \"314\": \"gray\", \"315\": \"gray\", \"316\": \"gray\", \"317\": \"gray\", \"318\": \"gray\", \"319\": \"gray\", \"320\": \"gray\", \"321\": \"gray\", \"322\": \"gray\", \"323\": \"gray\", \"324\": \"gray\", \"325\": \"gray\", \"326\": \"gray\", \"327\": \"gray\", \"328\": \"gray\", \"329\": \"gray\", \"330\": \"gray\", \"331\": \"gray\", \"332\": \"gray\", \"333\": \"gray\", \"334\": \"gray\", \"335\": \"gray\", \"336\": \"gray\", \"337\": \"gray\", \"338\": \"gray\", \"339\": \"gray\", \"340\": \"gray\", \"341\": \"gray\", \"342\": \"gray\", \"343\": \"gray\", \"344\": \"gray\", \"345\": \"gray\", \"346\": \"gray\", \"347\": \"gray\", \"348\": \"gray\", \"349\": \"gray\", \"350\": \"gray\", \"351\": \"gray\", \"352\": \"gray\", \"353\": \"gray\", \"354\": \"gray\", \"355\": \"gray\", \"356\": \"gray\", \"357\": \"gray\", \"358\": \"gray\", \"359\": \"gray\", \"360\": \"gray\", \"361\": \"gray\", \"362\": \"gray\", \"363\": \"gray\", \"364\": \"gray\", \"365\": \"gray\", \"366\": \"gray\", \"367\": \"gray\", \"368\": \"gray\", \"369\": \"gray\", \"370\": \"gray\", \"371\": \"gray\", \"372\": \"gray\", \"373\": \"gray\", \"374\": \"gray\", \"375\": \"gray\", \"376\": \"gray\", \"377\": \"gray\", \"378\": \"gray\", \"379\": \"gray\", \"380\": \"gray\", \"381\": \"gray\", \"382\": \"gray\", \"383\": \"gray\", \"384\": \"gray\", \"385\": \"gray\", \"386\": \"gray\", \"387\": \"gray\", \"388\": \"gray\", \"389\": \"gray\", \"390\": \"gray\", \"391\": \"gray\", \"392\": \"gray\", \"393\": \"gray\", \"394\": \"gray\", \"395\": \"gray\", \"396\": \"gray\", \"397\": \"gray\", \"398\": \"gray\", \"399\": \"gray\", \"400\": \"gray\", \"401\": \"gray\", \"402\": \"gray\", \"403\": \"gray\", \"404\": \"gray\", \"405\": \"gray\", \"406\": \"gray\", \"407\": \"gray\", \"408\": \"gray\", \"409\": \"gray\", \"410\": \"gray\", \"411\": \"gray\", \"412\": \"gray\", \"413\": \"gray\", \"414\": \"gray\", \"415\": \"gray\", \"416\": \"gray\", \"417\": \"gray\", \"418\": \"gray\", \"419\": \"gray\", \"420\": \"gray\", \"421\": \"gray\", \"422\": \"gray\", \"423\": \"gray\", \"424\": \"gray\", \"425\": \"gray\", \"426\": \"gray\", \"427\": \"gray\", \"428\": \"gray\", \"429\": \"gray\", \"430\": \"gray\", \"431\": \"gray\", \"432\": \"gray\", \"433\": \"gray\", \"434\": \"gray\", \"435\": \"gray\", \"436\": \"gray\", \"437\": \"gray\", \"438\": \"gray\", \"439\": \"gray\", \"440\": \"gray\", \"441\": \"gray\", \"442\": \"gray\", \"443\": \"gray\", \"444\": \"gray\", \"445\": \"gray\", \"446\": \"gray\", \"447\": \"gray\", \"448\": \"gray\", \"449\": \"gray\", \"450\": \"gray\", \"451\": \"gray\", \"452\": \"gray\", \"453\": \"gray\", \"454\": \"gray\", \"455\": \"gray\", \"456\": \"gray\", \"457\": \"gray\", \"458\": \"gray\", \"459\": \"gray\", \"460\": \"gray\", \"461\": \"gray\", \"462\": \"gray\", \"463\": \"gray\", \"464\": \"gray\", \"465\": \"gray\", \"466\": \"gray\", \"467\": \"gray\", \"468\": \"gray\", \"469\": \"gray\", \"470\": \"gray\", \"471\": \"gray\", \"472\": \"gray\", \"473\": \"gray\", \"474\": \"gray\", \"475\": \"gray\", \"476\": \"gray\", \"477\": \"gray\", \"478\": \"gray\", \"479\": \"gray\", \"480\": \"gray\", \"481\": \"gray\", \"482\": \"gray\", \"483\": \"gray\", \"484\": \"gray\", \"485\": \"gray\", \"486\": \"gray\", \"487\": \"gray\", \"488\": \"gray\", \"489\": \"gray\", \"490\": \"gray\", \"491\": \"gray\"}}}});\n",
       "\tviewer_16632462514962637.zoomTo();\n",
       "\tviewer_16632462514962637.removeAllModels();\n",
       "\tviewer_16632462514962637.addModel(\"/home/miquel/mounts/crg_hpc/projects/publication_splicing_dependency/support/MDM2_HsaEX0038400-iso0-excluded_unrelaxed_rank_1_model_3.pdb\",\"pdb\");\n",
       "\tviewer_16632462514962637.setBackgroundColor(\"black\",1.0);\n",
       "\tviewer_16632462514962637.setStyle({\"chain\": \"A\"},{\"cartoon\": {\"colorscheme\": {\"prop\": \"resi\", \"map\": {\"1\": \"gray\", \"2\": \"gray\", \"3\": \"gray\", \"4\": \"gray\", \"5\": \"gray\", \"6\": \"gray\", \"7\": \"gray\", \"8\": \"gray\", \"9\": \"gray\", \"10\": \"gray\", \"11\": \"gray\", \"12\": \"gray\", \"13\": \"gray\", \"14\": \"gray\", \"15\": \"gray\", \"16\": \"gray\", \"17\": \"green\", \"18\": \"green\", \"19\": \"green\", \"20\": \"green\", \"21\": \"green\", \"22\": \"green\", \"23\": \"green\", \"24\": \"green\", \"25\": \"green\", \"26\": \"green\", \"27\": \"green\", \"28\": \"blue\", \"29\": \"blue\", \"30\": \"blue\", \"31\": \"blue\", \"32\": \"blue\", \"33\": \"blue\", \"34\": \"blue\", \"35\": \"blue\", \"36\": \"blue\", \"37\": \"blue\", \"38\": \"blue\", \"39\": \"gray\", \"40\": \"gray\", \"41\": \"gray\", \"42\": \"gray\", \"43\": \"gray\", \"44\": \"gray\", \"45\": \"gray\", \"46\": \"gray\", \"47\": \"gray\", \"48\": \"gray\", \"49\": \"gray\", \"50\": \"gray\", \"51\": \"gray\", \"52\": \"gray\", \"53\": \"gray\", \"54\": \"gray\", \"55\": \"gray\", \"56\": \"gray\", \"57\": \"gray\", \"58\": \"gray\", \"59\": \"gray\", \"60\": \"gray\", \"61\": \"gray\", \"62\": \"gray\", \"63\": \"gray\", \"64\": \"gray\", \"65\": \"gray\", \"66\": \"gray\", \"67\": \"gray\", \"68\": \"gray\", \"69\": \"gray\", \"70\": \"gray\", \"71\": \"gray\", \"72\": \"gray\", \"73\": \"gray\", \"74\": \"gray\", \"75\": \"gray\", \"76\": \"gray\", \"77\": \"gray\", \"78\": \"gray\", \"79\": \"gray\", \"80\": \"gray\", \"81\": \"gray\", \"82\": \"gray\", \"83\": \"gray\", \"84\": \"gray\", \"85\": \"gray\", \"86\": \"gray\", \"87\": \"gray\", \"88\": \"gray\", \"89\": \"gray\", \"90\": \"gray\", \"91\": \"gray\", \"92\": \"gray\", \"93\": \"gray\", \"94\": \"gray\", \"95\": \"gray\", \"96\": \"gray\", \"97\": \"gray\", \"98\": \"gray\", \"99\": \"gray\", \"100\": \"gray\", \"101\": \"gray\", \"102\": \"gray\", \"103\": \"gray\", \"104\": \"gray\", \"105\": \"gray\", \"106\": \"gray\", \"107\": \"gray\", \"108\": \"gray\", \"109\": \"gray\", \"110\": \"gray\", \"111\": \"gray\", \"112\": \"gray\", \"113\": \"gray\", \"114\": \"gray\", \"115\": \"gray\", \"116\": \"gray\", \"117\": \"gray\", \"118\": \"gray\", \"119\": \"gray\", \"120\": \"gray\", \"121\": \"gray\", \"122\": \"gray\", \"123\": \"gray\", \"124\": \"gray\", \"125\": \"gray\", \"126\": \"gray\", \"127\": \"gray\", \"128\": \"gray\", \"129\": \"gray\", \"130\": \"gray\", \"131\": \"gray\", \"132\": \"gray\", \"133\": \"gray\", \"134\": \"gray\", \"135\": \"gray\", \"136\": \"gray\", \"137\": \"gray\", \"138\": \"gray\", \"139\": \"gray\", \"140\": \"gray\", \"141\": \"gray\", \"142\": \"gray\", \"143\": \"gray\", \"144\": \"gray\", \"145\": \"gray\", \"146\": \"gray\", \"147\": \"gray\", \"148\": \"gray\", \"149\": \"gray\", \"150\": \"gray\", \"151\": \"gray\", \"152\": \"gray\", \"153\": \"gray\", \"154\": \"gray\", \"155\": \"gray\", \"156\": \"gray\", \"157\": \"gray\", \"158\": \"gray\", \"159\": \"gray\", \"160\": \"gray\", \"161\": \"gray\", \"162\": \"gray\", \"163\": \"gray\", \"164\": \"gray\", \"165\": \"gray\", \"166\": \"gray\", \"167\": \"gray\", \"168\": \"gray\", \"169\": \"gray\", \"170\": \"gray\", \"171\": \"gray\", \"172\": \"gray\", \"173\": \"gray\", \"174\": \"gray\", \"175\": \"gray\", \"176\": \"gray\", \"177\": \"gray\", \"178\": \"gray\", \"179\": \"gray\", \"180\": \"gray\", \"181\": \"gray\", \"182\": \"gray\", \"183\": \"gray\", \"184\": \"gray\", \"185\": \"gray\", \"186\": \"gray\", \"187\": \"gray\", \"188\": \"gray\", \"189\": \"gray\", \"190\": \"gray\", \"191\": \"gray\", \"192\": \"gray\", \"193\": \"gray\", \"194\": \"gray\", \"195\": \"gray\", \"196\": \"gray\", \"197\": \"gray\", \"198\": \"gray\", \"199\": \"gray\", \"200\": \"gray\", \"201\": \"gray\", \"202\": \"gray\", \"203\": \"gray\", \"204\": \"gray\", \"205\": \"gray\", \"206\": \"gray\", \"207\": \"gray\", \"208\": \"gray\", \"209\": \"gray\", \"210\": \"gray\", \"211\": \"gray\", \"212\": \"gray\", \"213\": \"gray\", \"214\": \"gray\", \"215\": \"gray\", \"216\": \"gray\", \"217\": \"gray\", \"218\": \"gray\", \"219\": \"gray\", \"220\": \"gray\", \"221\": \"gray\", \"222\": \"gray\", \"223\": \"gray\", \"224\": \"gray\", \"225\": \"gray\", \"226\": \"gray\", \"227\": \"gray\", \"228\": \"gray\", \"229\": \"gray\", \"230\": \"gray\", \"231\": \"gray\", \"232\": \"gray\", \"233\": \"gray\", \"234\": \"gray\", \"235\": \"gray\", \"236\": \"gray\", \"237\": \"gray\", \"238\": \"gray\", \"239\": \"gray\", \"240\": \"gray\", \"241\": \"gray\", \"242\": \"gray\", \"243\": \"gray\", \"244\": \"gray\", \"245\": \"gray\", \"246\": \"gray\", \"247\": \"gray\", \"248\": \"gray\", \"249\": \"gray\", \"250\": \"gray\", \"251\": \"gray\", \"252\": \"gray\", \"253\": \"gray\", \"254\": \"gray\", \"255\": \"gray\", \"256\": \"gray\", \"257\": \"gray\", \"258\": \"gray\", \"259\": \"gray\", \"260\": \"gray\", \"261\": \"gray\", \"262\": \"gray\", \"263\": \"gray\", \"264\": \"gray\", \"265\": \"gray\", \"266\": \"gray\", \"267\": \"gray\", \"268\": \"gray\", \"269\": \"gray\", \"270\": \"gray\", \"271\": \"gray\", \"272\": \"gray\", \"273\": \"gray\", \"274\": \"gray\", \"275\": \"gray\", \"276\": \"gray\", \"277\": \"gray\", \"278\": \"gray\", \"279\": \"gray\", \"280\": \"gray\", \"281\": \"gray\", \"282\": \"gray\", \"283\": \"gray\", \"284\": \"gray\", \"285\": \"gray\", \"286\": \"gray\", \"287\": \"gray\", \"288\": \"gray\", \"289\": \"gray\", \"290\": \"gray\", \"291\": \"gray\", \"292\": \"gray\", \"293\": \"gray\", \"294\": \"gray\", \"295\": \"gray\", \"296\": \"gray\", \"297\": \"gray\", \"298\": \"gray\", \"299\": \"gray\", \"300\": \"gray\", \"301\": \"gray\", \"302\": \"gray\", \"303\": \"gray\", \"304\": \"gray\", \"305\": \"gray\", \"306\": \"gray\", \"307\": \"gray\", \"308\": \"gray\", \"309\": \"gray\", \"310\": \"gray\", \"311\": \"gray\", \"312\": \"gray\", \"313\": \"gray\", \"314\": \"gray\", \"315\": \"gray\", \"316\": \"gray\", \"317\": \"gray\", \"318\": \"gray\", \"319\": \"gray\", \"320\": \"gray\", \"321\": \"gray\", \"322\": \"gray\", \"323\": \"gray\", \"324\": \"gray\", \"325\": \"gray\", \"326\": \"gray\", \"327\": \"gray\", \"328\": \"gray\", \"329\": \"gray\", \"330\": \"gray\", \"331\": \"gray\", \"332\": \"gray\", \"333\": \"gray\", \"334\": \"gray\", \"335\": \"gray\", \"336\": \"gray\", \"337\": \"gray\", \"338\": \"gray\", \"339\": \"gray\", \"340\": \"gray\", \"341\": \"gray\", \"342\": \"gray\", \"343\": \"gray\", \"344\": \"gray\", \"345\": \"gray\", \"346\": \"gray\", \"347\": \"gray\", \"348\": \"gray\", \"349\": \"gray\", \"350\": \"gray\", \"351\": \"gray\", \"352\": \"gray\", \"353\": \"gray\", \"354\": \"gray\", \"355\": \"gray\", \"356\": \"gray\", \"357\": \"gray\", \"358\": \"gray\", \"359\": \"gray\", \"360\": \"gray\", \"361\": \"gray\", \"362\": \"gray\", \"363\": \"gray\", \"364\": \"gray\", \"365\": \"gray\", \"366\": \"gray\", \"367\": \"gray\", \"368\": \"gray\", \"369\": \"gray\", \"370\": \"gray\", \"371\": \"gray\", \"372\": \"gray\", \"373\": \"gray\", \"374\": \"gray\", \"375\": \"gray\", \"376\": \"gray\", \"377\": \"gray\", \"378\": \"gray\", \"379\": \"gray\", \"380\": \"gray\", \"381\": \"gray\", \"382\": \"gray\", \"383\": \"gray\", \"384\": \"gray\", \"385\": \"gray\", \"386\": \"gray\", \"387\": \"gray\", \"388\": \"gray\", \"389\": \"gray\", \"390\": \"gray\", \"391\": \"gray\", \"392\": \"gray\", \"393\": \"gray\", \"394\": \"gray\", \"395\": \"gray\", \"396\": \"gray\", \"397\": \"gray\", \"398\": \"gray\", \"399\": \"gray\", \"400\": \"gray\", \"401\": \"gray\", \"402\": \"gray\", \"403\": \"gray\", \"404\": \"gray\", \"405\": \"gray\", \"406\": \"gray\", \"407\": \"gray\", \"408\": \"gray\", \"409\": \"gray\", \"410\": \"gray\", \"411\": \"gray\", \"412\": \"gray\", \"413\": \"gray\", \"414\": \"gray\", \"415\": \"gray\", \"416\": \"gray\", \"417\": \"gray\", \"418\": \"gray\", \"419\": \"gray\", \"420\": \"gray\", \"421\": \"gray\", \"422\": \"gray\", \"423\": \"gray\", \"424\": \"gray\", \"425\": \"gray\", \"426\": \"gray\", \"427\": \"gray\", \"428\": \"gray\", \"429\": \"gray\", \"430\": \"gray\", \"431\": \"gray\", \"432\": \"gray\", \"433\": \"gray\", \"434\": \"gray\", \"435\": \"gray\", \"436\": \"gray\", \"437\": \"gray\", \"438\": \"gray\", \"439\": \"gray\", \"440\": \"gray\", \"441\": \"gray\", \"442\": \"gray\", \"443\": \"gray\", \"444\": \"gray\", \"445\": \"gray\", \"446\": \"gray\", \"447\": \"gray\", \"448\": \"gray\", \"449\": \"gray\", \"450\": \"gray\", \"451\": \"gray\", \"452\": \"gray\", \"453\": \"gray\", \"454\": \"gray\", \"455\": \"gray\", \"456\": \"gray\", \"457\": \"gray\", \"458\": \"gray\", \"459\": \"gray\", \"460\": \"gray\", \"461\": \"gray\", \"462\": \"gray\", \"463\": \"gray\", \"464\": \"gray\", \"465\": \"gray\", \"466\": \"gray\"}}}});\n",
       "\tviewer_16632462514962637.zoomTo();\n",
       "viewer_16632462514962637.render();\n",
       "});\n",
       "</script>"
      ]
     },
     "metadata": {},
     "output_type": "display_data"
    }
   ],
   "source": [
    "view.removeAllModels()\n",
    "view.addModel(pdb_exc_file,'pdb')\n",
    "\n",
    "view.setBackgroundColor('black', 1.0)\n",
    "view.setStyle({'chain':'A'}, {'cartoon':{'colorscheme':{'prop':'resi','map':colors_exc[\"HsaEX0038400\"]}}})\n",
    "\n",
    "view.zoomTo()\n",
    "view.show()"
   ]
  },
  {
   "cell_type": "code",
   "execution_count": null,
   "id": "b1ee874d",
   "metadata": {},
   "outputs": [],
   "source": []
  }
 ],
 "metadata": {
  "kernelspec": {
   "display_name": "Python 3 (ipykernel)",
   "language": "python",
   "name": "python3"
  },
  "language_info": {
   "codemirror_mode": {
    "name": "ipython",
    "version": 3
   },
   "file_extension": ".py",
   "mimetype": "text/x-python",
   "name": "python",
   "nbconvert_exporter": "python",
   "pygments_lexer": "ipython3",
   "version": "3.8.3"
  }
 },
 "nbformat": 4,
 "nbformat_minor": 5
}
